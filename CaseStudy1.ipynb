{
 "cells": [
  {
   "cell_type": "code",
   "execution_count": 1,
   "id": "b2ffcc1a-46f5-4949-af44-1db12c091c65",
   "metadata": {},
   "outputs": [],
   "source": [
    "import pandas as pd\n",
    "import numpy as np\n",
    "import matplotlib.pyplot as plt\n",
    "import seaborn as sns"
   ]
  },
  {
   "cell_type": "code",
   "execution_count": 2,
   "id": "947cc9c7-cdc4-4c41-a23d-b999f1315b33",
   "metadata": {},
   "outputs": [],
   "source": [
    "df = pd.read_csv(\"D1.csv\", na_values = '?', low_memory=False)"
   ]
  },
  {
   "cell_type": "code",
   "execution_count": 3,
   "id": "066550d5-a0b1-4d7f-85a1-877d478e1fe5",
   "metadata": {},
   "outputs": [
    {
     "name": "stdout",
     "output_type": "stream",
     "text": [
      "<class 'pandas.core.frame.DataFrame'>\n",
      "RangeIndex: 19663 entries, 0 to 19662\n",
      "Data columns (total 8 columns):\n",
      " #   Column       Non-Null Count  Dtype  \n",
      "---  ------       --------------  -----  \n",
      " 0   InvoiceNo    19663 non-null  int64  \n",
      " 1   StockCode    19663 non-null  object \n",
      " 2   Description  19075 non-null  object \n",
      " 3   Quantity     19663 non-null  int64  \n",
      " 4   InvoiceDate  19663 non-null  object \n",
      " 5   UnitPrice    19663 non-null  float64\n",
      " 6   CustomerID   15678 non-null  float64\n",
      " 7   Country      19663 non-null  object \n",
      "dtypes: float64(2), int64(2), object(4)\n",
      "memory usage: 1.2+ MB\n"
     ]
    }
   ],
   "source": [
    "df.info()"
   ]
  },
  {
   "cell_type": "code",
   "execution_count": 4,
   "id": "0c91ba22-1c04-4708-bd8b-c980088b7dd4",
   "metadata": {},
   "outputs": [
    {
     "name": "stdout",
     "output_type": "stream",
     "text": [
      "InvoiceNo         0\n",
      "StockCode         0\n",
      "Description     588\n",
      "Quantity          0\n",
      "InvoiceDate       0\n",
      "UnitPrice         0\n",
      "CustomerID     3985\n",
      "Country           0\n",
      "dtype: int64\n"
     ]
    }
   ],
   "source": [
    "missing_values = df.isna() \n",
    "print(missing_values.sum())"
   ]
  },
  {
   "cell_type": "code",
   "execution_count": 5,
   "id": "4516cf12-5e82-4ee6-8d0f-fb766546dea9",
   "metadata": {},
   "outputs": [],
   "source": [
    "df.drop(['StockCode', 'Quantity', 'UnitPrice', 'CustomerID', 'Country'], axis=1, inplace=True)"
   ]
  },
  {
   "cell_type": "code",
   "execution_count": 6,
   "id": "9cff6e70",
   "metadata": {},
   "outputs": [
    {
     "name": "stdout",
     "output_type": "stream",
     "text": [
      "<class 'pandas.core.frame.DataFrame'>\n",
      "RangeIndex: 19663 entries, 0 to 19662\n",
      "Data columns (total 3 columns):\n",
      " #   Column       Non-Null Count  Dtype \n",
      "---  ------       --------------  ----- \n",
      " 0   InvoiceNo    19663 non-null  int64 \n",
      " 1   Description  19075 non-null  object\n",
      " 2   InvoiceDate  19663 non-null  object\n",
      "dtypes: int64(1), object(2)\n",
      "memory usage: 461.0+ KB\n"
     ]
    }
   ],
   "source": [
    "df.info()"
   ]
  },
  {
   "cell_type": "code",
   "execution_count": 7,
   "id": "396c9e82",
   "metadata": {},
   "outputs": [],
   "source": [
    "df.dropna(subset=['Description'], inplace=True)"
   ]
  },
  {
   "cell_type": "code",
   "execution_count": 8,
   "id": "8d621873",
   "metadata": {},
   "outputs": [
    {
     "name": "stdout",
     "output_type": "stream",
     "text": [
      "InvoiceNo      0\n",
      "Description    0\n",
      "InvoiceDate    0\n",
      "dtype: int64\n"
     ]
    }
   ],
   "source": [
    "missing_values = df.isna() \n",
    "print(missing_values.sum())"
   ]
  },
  {
   "cell_type": "code",
   "execution_count": 9,
   "id": "ab33bb5a",
   "metadata": {},
   "outputs": [],
   "source": [
    "df['InvoiceNo']=df['InvoiceNo'].astype(str)"
   ]
  },
  {
   "cell_type": "code",
   "execution_count": 10,
   "id": "7af4b3fd",
   "metadata": {},
   "outputs": [
    {
     "name": "stdout",
     "output_type": "stream",
     "text": [
      "<class 'pandas.core.frame.DataFrame'>\n",
      "Index: 19075 entries, 0 to 19662\n",
      "Data columns (total 3 columns):\n",
      " #   Column       Non-Null Count  Dtype \n",
      "---  ------       --------------  ----- \n",
      " 0   InvoiceNo    19075 non-null  object\n",
      " 1   Description  19075 non-null  object\n",
      " 2   InvoiceDate  19075 non-null  object\n",
      "dtypes: object(3)\n",
      "memory usage: 596.1+ KB\n"
     ]
    }
   ],
   "source": [
    "df.info()"
   ]
  },
  {
   "cell_type": "code",
   "execution_count": 11,
   "id": "f5999af2",
   "metadata": {},
   "outputs": [],
   "source": [
    "transactions = df.groupby(['InvoiceNo'])['Description'].apply(list)"
   ]
  },
  {
   "cell_type": "code",
   "execution_count": 12,
   "id": "066d8028",
   "metadata": {},
   "outputs": [
    {
     "name": "stdout",
     "output_type": "stream",
     "text": [
      "InvoiceNo\n",
      "536365                 [WHITE HANGING HEART T-LIGHT HOLDER]\n",
      "536367                      [ASSORTED COLOUR BIRD ORNAMENT]\n",
      "536373                 [WHITE HANGING HEART T-LIGHT HOLDER]\n",
      "536375                 [WHITE HANGING HEART T-LIGHT HOLDER]\n",
      "536378    [JUMBO BAG PINK POLKADOT, LUNCH BAG RED RETROS...\n",
      "536384    [NATURAL SLATE HEART CHALKBOARD , HEART OF WIC...\n",
      "536386                            [JUMBO BAG RED RETROSPOT]\n",
      "536388                              [HEART OF WICKER SMALL]\n",
      "536390    [WHITE HANGING HEART T-LIGHT HOLDER, JUMBO BAG...\n",
      "536392                      [ASSORTED COLOUR BIRD ORNAMENT]\n",
      "Name: Description, dtype: object\n"
     ]
    }
   ],
   "source": [
    "print(transactions.head(10))"
   ]
  },
  {
   "cell_type": "code",
   "execution_count": 13,
   "id": "c8ebd948",
   "metadata": {},
   "outputs": [],
   "source": [
    "from apyori import apriori"
   ]
  },
  {
   "cell_type": "code",
   "execution_count": 14,
   "id": "2e3098da",
   "metadata": {},
   "outputs": [],
   "source": [
    "transaction_list = list(transactions)"
   ]
  },
  {
   "cell_type": "code",
   "execution_count": 15,
   "id": "c77b8c84-9626-42d5-ba85-6b690c704d64",
   "metadata": {},
   "outputs": [
    {
     "name": "stdout",
     "output_type": "stream",
     "text": [
      "[RelationRecord(items=frozenset({'ASSORTED COLOUR BIRD ORNAMENT'}), support=0.15206939799331104, ordered_statistics=[OrderedStatistic(items_base=frozenset(), items_add=frozenset({'ASSORTED COLOUR BIRD ORNAMENT'}), confidence=0.15206939799331104, lift=1.0)]), RelationRecord(items=frozenset({'HEART OF WICKER SMALL'}), support=0.12552257525083613, ordered_statistics=[OrderedStatistic(items_base=frozenset(), items_add=frozenset({'HEART OF WICKER SMALL'}), confidence=0.12552257525083613, lift=1.0)]), RelationRecord(items=frozenset({'JUMBO BAG PINK POLKADOT'}), support=0.12729933110367894, ordered_statistics=[OrderedStatistic(items_base=frozenset(), items_add=frozenset({'JUMBO BAG PINK POLKADOT'}), confidence=0.12729933110367894, lift=1.0)]), RelationRecord(items=frozenset({'JUMBO BAG RED RETROSPOT'}), support=0.21864548494983277, ordered_statistics=[OrderedStatistic(items_base=frozenset(), items_add=frozenset({'JUMBO BAG RED RETROSPOT'}), confidence=0.21864548494983277, lift=1.0)]), RelationRecord(items=frozenset({'LUNCH BAG  BLACK SKULL.'}), support=0.13304765886287626, ordered_statistics=[OrderedStatistic(items_base=frozenset(), items_add=frozenset({'LUNCH BAG  BLACK SKULL.'}), confidence=0.13304765886287626, lift=1.0)])]\n"
     ]
    }
   ],
   "source": [
    "results = list(apriori(transaction_list, min_support=0.05))\n",
    "print(results[:5])"
   ]
  },
  {
   "cell_type": "code",
   "execution_count": 16,
   "id": "a8a0afa5-d0a3-44b1-91aa-eebc6c8c7ac0",
   "metadata": {},
   "outputs": [
    {
     "name": "stdout",
     "output_type": "stream",
     "text": [
      "                  Left_side                                       Right_side  \\\n",
      "0                                              ASSORTED COLOUR BIRD ORNAMENT   \n",
      "1                                                      HEART OF WICKER SMALL   \n",
      "2                                                    JUMBO BAG PINK POLKADOT   \n",
      "3                                                    JUMBO BAG RED RETROSPOT   \n",
      "4                                                    LUNCH BAG  BLACK SKULL.   \n",
      "5                                                    LUNCH BAG RED RETROSPOT   \n",
      "6                                            NATURAL SLATE HEART CHALKBOARD    \n",
      "7                                            PACK OF 72 RETROSPOT CAKE CASES   \n",
      "8                                                              PARTY BUNTING   \n",
      "9                                                   REGENCY CAKESTAND 3 TIER   \n",
      "10                                         SET OF 3 CAKE TINS PANTRY DESIGN    \n",
      "11                                        WHITE HANGING HEART T-LIGHT HOLDER   \n",
      "12                           JUMBO BAG RED RETROSPOT,JUMBO BAG PINK POLKADOT   \n",
      "13  JUMBO BAG PINK POLKADOT                          JUMBO BAG RED RETROSPOT   \n",
      "14  JUMBO BAG RED RETROSPOT                          JUMBO BAG PINK POLKADOT   \n",
      "15                           JUMBO BAG RED RETROSPOT,LUNCH BAG RED RETROSPOT   \n",
      "16  JUMBO BAG RED RETROSPOT                          LUNCH BAG RED RETROSPOT   \n",
      "17  LUNCH BAG RED RETROSPOT                          JUMBO BAG RED RETROSPOT   \n",
      "18                           LUNCH BAG  BLACK SKULL.,LUNCH BAG RED RETROSPOT   \n",
      "19  LUNCH BAG  BLACK SKULL.                          LUNCH BAG RED RETROSPOT   \n",
      "\n",
      "     Support  Confidence      Lift  \n",
      "0   0.152069    0.152069  1.000000  \n",
      "1   0.125523    0.125523  1.000000  \n",
      "2   0.127299    0.127299  1.000000  \n",
      "3   0.218645    0.218645  1.000000  \n",
      "4   0.133048    0.133048  1.000000  \n",
      "5   0.163462    0.163462  1.000000  \n",
      "6   0.130539    0.130539  1.000000  \n",
      "7   0.137960    0.137960  1.000000  \n",
      "8   0.176212    0.176212  1.000000  \n",
      "9   0.207880    0.207880  1.000000  \n",
      "10  0.144753    0.144753  1.000000  \n",
      "11  0.236204    0.236204  1.000000  \n",
      "12  0.086225    0.086225  1.000000  \n",
      "13  0.086225    0.677340  3.097891  \n",
      "14  0.086225    0.394359  3.097891  \n",
      "15  0.060514    0.060514  1.000000  \n",
      "16  0.060514    0.276769  1.693173  \n",
      "17  0.060514    0.370205  1.693173  \n",
      "18  0.066994    0.066994  1.000000  \n",
      "19  0.066994    0.503535  3.080449  \n"
     ]
    }
   ],
   "source": [
    "def convert_apriori_results_to_pandas_df(results):\n",
    "    rules = []\n",
    "    \n",
    "    for rule_set in results:\n",
    "        for rule in rule_set.ordered_statistics:\n",
    "            rules.append([','.join(rule.items_base), ','.join(rule.items_add),\n",
    "                         rule_set.support, rule.confidence, rule.lift]) \n",
    "    \n",
    "    return pd.DataFrame(rules, columns=['Left_side', 'Right_side', 'Support', 'Confidence', 'Lift']) \n",
    "\n",
    "result_df = convert_apriori_results_to_pandas_df(results)\n",
    "print (result_df.head(20))"
   ]
  },
  {
   "cell_type": "code",
   "execution_count": 17,
   "id": "12ad0c00-e6c1-4339-9d6c-afa899433281",
   "metadata": {},
   "outputs": [
    {
     "name": "stdout",
     "output_type": "stream",
     "text": [
      "                  Left_side                                       Right_side  \\\n",
      "14  JUMBO BAG RED RETROSPOT                          JUMBO BAG PINK POLKADOT   \n",
      "13  JUMBO BAG PINK POLKADOT                          JUMBO BAG RED RETROSPOT   \n",
      "20  LUNCH BAG RED RETROSPOT                          LUNCH BAG  BLACK SKULL.   \n",
      "19  LUNCH BAG  BLACK SKULL.                          LUNCH BAG RED RETROSPOT   \n",
      "16  JUMBO BAG RED RETROSPOT                          LUNCH BAG RED RETROSPOT   \n",
      "17  LUNCH BAG RED RETROSPOT                          JUMBO BAG RED RETROSPOT   \n",
      "11                                        WHITE HANGING HEART T-LIGHT HOLDER   \n",
      "18                           LUNCH BAG  BLACK SKULL.,LUNCH BAG RED RETROSPOT   \n",
      "15                           JUMBO BAG RED RETROSPOT,LUNCH BAG RED RETROSPOT   \n",
      "12                           JUMBO BAG RED RETROSPOT,JUMBO BAG PINK POLKADOT   \n",
      "\n",
      "     Support  Confidence      Lift  \n",
      "14  0.086225    0.394359  3.097891  \n",
      "13  0.086225    0.677340  3.097891  \n",
      "20  0.066994    0.409847  3.080449  \n",
      "19  0.066994    0.503535  3.080449  \n",
      "16  0.060514    0.276769  1.693173  \n",
      "17  0.060514    0.370205  1.693173  \n",
      "11  0.236204    0.236204  1.000000  \n",
      "18  0.066994    0.066994  1.000000  \n",
      "15  0.060514    0.060514  1.000000  \n",
      "12  0.086225    0.086225  1.000000  \n"
     ]
    }
   ],
   "source": [
    "result_df = result_df.sort_values(by='Lift', ascending=False)\n",
    "print(result_df.head(10))"
   ]
  },
  {
   "cell_type": "code",
   "execution_count": 18,
   "id": "c3704340-820c-483b-a7de-4648746c4be6",
   "metadata": {},
   "outputs": [
    {
     "name": "stdout",
     "output_type": "stream",
     "text": [
      "                                             Left_side  \\\n",
      "607    JUMBO BAG RED RETROSPOT,LUNCH BAG  BLACK SKULL.   \n",
      "606    JUMBO BAG PINK POLKADOT,LUNCH BAG RED RETROSPOT   \n",
      "608    JUMBO BAG RED RETROSPOT,LUNCH BAG RED RETROSPOT   \n",
      "605    LUNCH BAG  BLACK SKULL.,JUMBO BAG PINK POLKADOT   \n",
      "610  JUMBO BAG RED RETROSPOT,LUNCH BAG  BLACK SKULL...   \n",
      "603                            LUNCH BAG RED RETROSPOT   \n",
      "613  JUMBO BAG RED RETROSPOT,LUNCH BAG  BLACK SKULL...   \n",
      "600                            JUMBO BAG PINK POLKADOT   \n",
      "485   REGENCY CAKESTAND 3 TIER,LUNCH BAG  BLACK SKULL.   \n",
      "482                    PACK OF 72 RETROSPOT CAKE CASES   \n",
      "\n",
      "                                            Right_side   Support  Confidence  \\\n",
      "607    JUMBO BAG PINK POLKADOT,LUNCH BAG RED RETROSPOT  0.013064    0.332447   \n",
      "606    JUMBO BAG RED RETROSPOT,LUNCH BAG  BLACK SKULL.  0.013064    0.386997   \n",
      "608    LUNCH BAG  BLACK SKULL.,JUMBO BAG PINK POLKADOT  0.013064    0.215889   \n",
      "605    JUMBO BAG RED RETROSPOT,LUNCH BAG RED RETROSPOT  0.013064    0.488281   \n",
      "610                            LUNCH BAG RED RETROSPOT  0.013064    0.690608   \n",
      "603  JUMBO BAG RED RETROSPOT,LUNCH BAG  BLACK SKULL...  0.013064    0.079923   \n",
      "613                            JUMBO BAG PINK POLKADOT  0.013064    0.531915   \n",
      "600  JUMBO BAG RED RETROSPOT,LUNCH BAG  BLACK SKULL...  0.013064    0.102627   \n",
      "485                    PACK OF 72 RETROSPOT CAKE CASES  0.013587    0.550847   \n",
      "482   REGENCY CAKESTAND 3 TIER,LUNCH BAG  BLACK SKULL.  0.013587    0.098485   \n",
      "\n",
      "         Lift  \n",
      "607  9.847836  \n",
      "606  9.847836  \n",
      "608  8.068869  \n",
      "605  8.068869  \n",
      "610  4.224894  \n",
      "603  4.224894  \n",
      "613  4.178458  \n",
      "600  4.178458  \n",
      "485  3.992809  \n",
      "482  3.992809  \n"
     ]
    }
   ],
   "source": [
    "results2 = list(apriori(transaction_list, min_support=0.01))\n",
    "result2_df = convert_apriori_results_to_pandas_df(results2)\n",
    "# sort all acquired rules descending by lift\n",
    "result2_df = result2_df.sort_values(by='Lift', ascending=False)\n",
    "print(result2_df.head(10))"
   ]
  },
  {
   "cell_type": "code",
   "execution_count": 19,
   "id": "d43cff9a-5611-4f8e-9436-6a9461e984a1",
   "metadata": {},
   "outputs": [
    {
     "name": "stdout",
     "output_type": "stream",
     "text": [
      "                                           Left_side  \\\n",
      "128  JUMBO BAG PINK POLKADOT,LUNCH BAG RED RETROSPOT   \n",
      "125                          JUMBO BAG RED RETROSPOT   \n",
      "129  JUMBO BAG RED RETROSPOT,LUNCH BAG RED RETROSPOT   \n",
      "124                          JUMBO BAG PINK POLKADOT   \n",
      "28                           JUMBO BAG PINK POLKADOT   \n",
      "29                           JUMBO BAG RED RETROSPOT   \n",
      "64                           LUNCH BAG  BLACK SKULL.   \n",
      "65                           LUNCH BAG RED RETROSPOT   \n",
      "23                   NATURAL SLATE HEART CHALKBOARD    \n",
      "22                             HEART OF WICKER SMALL   \n",
      "127  JUMBO BAG RED RETROSPOT,JUMBO BAG PINK POLKADOT   \n",
      "\n",
      "                                          Right_side   Support  Confidence  \\\n",
      "128                          JUMBO BAG RED RETROSPOT  0.026024    0.770898   \n",
      "125  JUMBO BAG PINK POLKADOT,LUNCH BAG RED RETROSPOT  0.026024    0.119025   \n",
      "129                          JUMBO BAG PINK POLKADOT  0.026024    0.430052   \n",
      "124  JUMBO BAG RED RETROSPOT,LUNCH BAG RED RETROSPOT  0.026024    0.204433   \n",
      "28                           JUMBO BAG RED RETROSPOT  0.086225    0.677340   \n",
      "29                           JUMBO BAG PINK POLKADOT  0.086225    0.394359   \n",
      "64                           LUNCH BAG RED RETROSPOT  0.066994    0.503535   \n",
      "65                           LUNCH BAG  BLACK SKULL.  0.066994    0.409847   \n",
      "23                             HEART OF WICKER SMALL  0.031041    0.237790   \n",
      "22                   NATURAL SLATE HEART CHALKBOARD   0.031041    0.247294   \n",
      "127                          LUNCH BAG RED RETROSPOT  0.026024    0.301818   \n",
      "\n",
      "         Lift  \n",
      "128  3.525789  \n",
      "125  3.525789  \n",
      "129  3.378272  \n",
      "124  3.378272  \n",
      "28   3.097891  \n",
      "29   3.097891  \n",
      "64   3.080449  \n",
      "65   3.080449  \n",
      "23   1.894402  \n",
      "22   1.894402  \n",
      "127  1.846417  \n"
     ]
    }
   ],
   "source": [
    "results3 = list(apriori(transaction_list, min_support=0.025))\n",
    "result3_df = convert_apriori_results_to_pandas_df(results3)\n",
    "# sort all acquired rules descending by lift\n",
    "result3_df = result3_df.sort_values(by='Lift', ascending=False)\n",
    "print(result3_df.head(11))"
   ]
  },
  {
   "cell_type": "code",
   "execution_count": 20,
   "id": "66143e00-42d2-47bf-96f5-3c3a09eba136",
   "metadata": {},
   "outputs": [
    {
     "name": "stdout",
     "output_type": "stream",
     "text": [
      "                  Left_side                                       Right_side  \\\n",
      "14  JUMBO BAG RED RETROSPOT                          JUMBO BAG PINK POLKADOT   \n",
      "13  JUMBO BAG PINK POLKADOT                          JUMBO BAG RED RETROSPOT   \n",
      "20  LUNCH BAG RED RETROSPOT                          LUNCH BAG  BLACK SKULL.   \n",
      "19  LUNCH BAG  BLACK SKULL.                          LUNCH BAG RED RETROSPOT   \n",
      "16  JUMBO BAG RED RETROSPOT                          LUNCH BAG RED RETROSPOT   \n",
      "17  LUNCH BAG RED RETROSPOT                          JUMBO BAG RED RETROSPOT   \n",
      "11                                        WHITE HANGING HEART T-LIGHT HOLDER   \n",
      "18                           LUNCH BAG  BLACK SKULL.,LUNCH BAG RED RETROSPOT   \n",
      "15                           JUMBO BAG RED RETROSPOT,LUNCH BAG RED RETROSPOT   \n",
      "12                           JUMBO BAG RED RETROSPOT,JUMBO BAG PINK POLKADOT   \n",
      "\n",
      "     Support  Confidence      Lift  \n",
      "14  0.086225    0.394359  3.097891  \n",
      "13  0.086225    0.677340  3.097891  \n",
      "20  0.066994    0.409847  3.080449  \n",
      "19  0.066994    0.503535  3.080449  \n",
      "16  0.060514    0.276769  1.693173  \n",
      "17  0.060514    0.370205  1.693173  \n",
      "11  0.236204    0.236204  1.000000  \n",
      "18  0.066994    0.066994  1.000000  \n",
      "15  0.060514    0.060514  1.000000  \n",
      "12  0.086225    0.086225  1.000000  \n"
     ]
    }
   ],
   "source": [
    "results4 = list(apriori(transaction_list, min_support=0.05))\n",
    "result4_df = convert_apriori_results_to_pandas_df(results4)\n",
    "# sort all acquired rules descending by lift\n",
    "result4_df = result4_df.sort_values(by='Lift', ascending=False)\n",
    "print(result4_df.head(10))"
   ]
  },
  {
   "cell_type": "code",
   "execution_count": 21,
   "id": "55e823f6-a081-4a9c-a564-2ba031c3644d",
   "metadata": {},
   "outputs": [
    {
     "data": {
      "text/html": [
       "<div>\n",
       "<style scoped>\n",
       "    .dataframe tbody tr th:only-of-type {\n",
       "        vertical-align: middle;\n",
       "    }\n",
       "\n",
       "    .dataframe tbody tr th {\n",
       "        vertical-align: top;\n",
       "    }\n",
       "\n",
       "    .dataframe thead th {\n",
       "        text-align: right;\n",
       "    }\n",
       "</style>\n",
       "<table border=\"1\" class=\"dataframe\">\n",
       "  <thead>\n",
       "    <tr style=\"text-align: right;\">\n",
       "      <th></th>\n",
       "      <th>Left_side</th>\n",
       "      <th>Right_side</th>\n",
       "      <th>Support</th>\n",
       "      <th>Confidence</th>\n",
       "      <th>Lift</th>\n",
       "    </tr>\n",
       "  </thead>\n",
       "  <tbody>\n",
       "    <tr>\n",
       "      <th>124</th>\n",
       "      <td>JUMBO BAG PINK POLKADOT</td>\n",
       "      <td>JUMBO BAG RED RETROSPOT,LUNCH BAG RED RETROSPOT</td>\n",
       "      <td>0.026024</td>\n",
       "      <td>0.204433</td>\n",
       "      <td>3.378272</td>\n",
       "    </tr>\n",
       "    <tr>\n",
       "      <th>28</th>\n",
       "      <td>JUMBO BAG PINK POLKADOT</td>\n",
       "      <td>JUMBO BAG RED RETROSPOT</td>\n",
       "      <td>0.086225</td>\n",
       "      <td>0.677340</td>\n",
       "      <td>3.097891</td>\n",
       "    </tr>\n",
       "    <tr>\n",
       "      <th>34</th>\n",
       "      <td>JUMBO BAG PINK POLKADOT</td>\n",
       "      <td>LUNCH BAG RED RETROSPOT</td>\n",
       "      <td>0.033758</td>\n",
       "      <td>0.265189</td>\n",
       "      <td>1.622332</td>\n",
       "    </tr>\n",
       "    <tr>\n",
       "      <th>31</th>\n",
       "      <td>JUMBO BAG PINK POLKADOT</td>\n",
       "      <td>LUNCH BAG  BLACK SKULL.</td>\n",
       "      <td>0.026756</td>\n",
       "      <td>0.210181</td>\n",
       "      <td>1.579739</td>\n",
       "    </tr>\n",
       "    <tr>\n",
       "      <th>37</th>\n",
       "      <td>JUMBO BAG PINK POLKADOT</td>\n",
       "      <td>WHITE HANGING HEART T-LIGHT HOLDER</td>\n",
       "      <td>0.026860</td>\n",
       "      <td>0.211002</td>\n",
       "      <td>0.893303</td>\n",
       "    </tr>\n",
       "  </tbody>\n",
       "</table>\n",
       "</div>"
      ],
      "text/plain": [
       "                   Left_side                                       Right_side  \\\n",
       "124  JUMBO BAG PINK POLKADOT  JUMBO BAG RED RETROSPOT,LUNCH BAG RED RETROSPOT   \n",
       "28   JUMBO BAG PINK POLKADOT                          JUMBO BAG RED RETROSPOT   \n",
       "34   JUMBO BAG PINK POLKADOT                          LUNCH BAG RED RETROSPOT   \n",
       "31   JUMBO BAG PINK POLKADOT                          LUNCH BAG  BLACK SKULL.   \n",
       "37   JUMBO BAG PINK POLKADOT               WHITE HANGING HEART T-LIGHT HOLDER   \n",
       "\n",
       "      Support  Confidence      Lift  \n",
       "124  0.026024    0.204433  3.378272  \n",
       "28   0.086225    0.677340  3.097891  \n",
       "34   0.033758    0.265189  1.622332  \n",
       "31   0.026756    0.210181  1.579739  \n",
       "37   0.026860    0.211002  0.893303  "
      ]
     },
     "execution_count": 21,
     "metadata": {},
     "output_type": "execute_result"
    }
   ],
   "source": [
    "ans3 = result3_df.loc[result3_df['Left_side']=='JUMBO BAG PINK POLKADOT']\n",
    "ans3.sort_values(by = 'Lift', ascending = False).head(5)"
   ]
  },
  {
   "cell_type": "code",
   "execution_count": 22,
   "id": "981ecb54-940e-476f-9ff1-a403eb464bb4",
   "metadata": {},
   "outputs": [],
   "source": [
    "# Convert the \"InvoiceDate\" column to datetime with the correct format\n",
    "df['InvoiceDate'] = pd.to_datetime(df['InvoiceDate'], format='%d/%m/%Y %H:%M')\n",
    "\n",
    "# Sort the DataFrame by \"InvoiceDate\"\n",
    "df = df.sort_values(by='InvoiceDate')"
   ]
  },
  {
   "cell_type": "code",
   "execution_count": 23,
   "id": "13bf54da-ae5a-44c3-bd52-d818ef4c3baa",
   "metadata": {},
   "outputs": [
    {
     "name": "stdout",
     "output_type": "stream",
     "text": [
      "     InvoiceNo                                        Description  count\n",
      "0       536365               [WHITE HANGING HEART T-LIGHT HOLDER]      0\n",
      "1       536367                    [ASSORTED COLOUR BIRD ORNAMENT]      0\n",
      "2       536373               [WHITE HANGING HEART T-LIGHT HOLDER]      0\n",
      "3       536375               [WHITE HANGING HEART T-LIGHT HOLDER]      0\n",
      "4       536378  [JUMBO BAG PINK POLKADOT, LUNCH BAG RED RETROS...      2\n",
      "...        ...                                                ...    ...\n",
      "9563    581498  [JUMBO BAG PINK POLKADOT, NATURAL SLATE HEART ...      2\n",
      "9564    581538  [HEART OF WICKER SMALL, LUNCH BAG  BLACK SKULL...      2\n",
      "9565    581579                          [JUMBO BAG PINK POLKADOT]      0\n",
      "9566    581583                          [LUNCH BAG RED RETROSPOT]      0\n",
      "9567    581585                    [ASSORTED COLOUR BIRD ORNAMENT]      0\n",
      "\n",
      "[9568 rows x 3 columns]\n"
     ]
    }
   ],
   "source": [
    "transactions = pd.DataFrame(transactions).reset_index()\n",
    "transactions['count']=transactions['Description'].apply(lambda x: str(x).count(','))\n",
    "print (transactions)\n"
   ]
  },
  {
   "cell_type": "code",
   "execution_count": 24,
   "id": "c69d0f8c-d4a2-45a7-8bea-ef9d33cf6b48",
   "metadata": {},
   "outputs": [
    {
     "name": "stdout",
     "output_type": "stream",
     "text": [
      "[['WHITE HANGING HEART T-LIGHT HOLDER'], ['ASSORTED COLOUR BIRD ORNAMENT'], ['WHITE HANGING HEART T-LIGHT HOLDER'], ['WHITE HANGING HEART T-LIGHT HOLDER'], ['JUMBO BAG PINK POLKADOT', 'LUNCH BAG RED RETROSPOT', 'PACK OF 72 RETROSPOT CAKE CASES']]\n"
     ]
    }
   ],
   "source": [
    "transactions = df.groupby(['InvoiceNo'])['Description'].apply(list)\n",
    "sequences = transactions.values.tolist()\n",
    "# show the first 5 sequences\n",
    "print(sequences[:5])"
   ]
  },
  {
   "cell_type": "code",
   "execution_count": 25,
   "id": "d2549340-4bb2-4ee6-a004-da07df574886",
   "metadata": {},
   "outputs": [],
   "source": [
    "from collections import defaultdict\n",
    "import subprocess\n",
    "import re"
   ]
  },
  {
   "cell_type": "code",
   "execution_count": 26,
   "id": "dc8f7441-6825-4efc-9180-40eed420adae",
   "metadata": {},
   "outputs": [],
   "source": [
    "''' Uses SPMF to find association rules in supplied transactions '''\n",
    "def get_association_rules(sequences, min_sup, min_conf):\n",
    "    # step 1: create required input for SPMF\n",
    "\n",
    "    # prepare a dict to uniquely assign each item in the transactions to an int ID\n",
    "    item_dict = defaultdict(int)\n",
    "    output_dict = defaultdict(str)\n",
    "    item_id = 1\n",
    "\n",
    "    # write your sequences in SPMF format\n",
    "    with open('seq_rule_input.txt', 'w+') as f:\n",
    "        for sequence in sequences:\n",
    "            z = []\n",
    "            for itemset in sequence:\n",
    "                # if there are multiple items in one itemset\n",
    "                if isinstance(itemset, list):\n",
    "                    for item in itemset:\n",
    "                        if item not in item_dict:\n",
    "                            item_dict[item] = item_id\n",
    "                            item_id += 1\n",
    "                        z.append(item_dict[item])\n",
    "                else:\n",
    "                    if itemset not in item_dict:\n",
    "                        item_dict[itemset] = item_id\n",
    "                        output_dict[str(item_id)] = itemset\n",
    "                        item_id += 1\n",
    "                    z.append(item_dict[itemset])\n",
    "\n",
    "                # end of itemset\n",
    "                z.append(-1)\n",
    "\n",
    "            # end of a sequence\n",
    "            z.append(-2)\n",
    "            f.write(' '.join([str(x) for x in z]))\n",
    "            f.write('\\n')\n",
    "\n",
    "    # run SPMF with supplied parameters\n",
    "    supp_param = '{}%'.format(int(min_sup * 100))\n",
    "    conf_param = '{}%'.format(int(min_conf * 100))\n",
    "    subprocess.call(['java', '-jar', 'spmf.jar', 'run', 'RuleGrowth', 'seq_rule_input.txt', 'seq_rule_output.txt', supp_param, conf_param], shell=True)\n",
    "\n",
    "    # read back the output rules\n",
    "    outputs = open('seq_rule_output.txt', 'r').read().strip().split('\\n')\n",
    "    output_rules = []\n",
    "    for rule in outputs:\n",
    "        print(\"****\", rule)\n",
    "        match = re.search(pattern=r'([0-9\\,]+) ==> ([0-9\\,]+) #SUP: ([0-9]+) #CONF: ([0-9\\,]+)', string=rule)\n",
    "        if match:\n",
    "            left, right, sup, conf = match.groups()\n",
    "            sup = int(sup) / len(sequences)\n",
    "            conf = float(conf)\n",
    "            output_rules.append([[output_dict[x] for x in left.split(',')], [output_dict[x] for x in right.split(',')], sup, conf])\n",
    "        else:\n",
    "            # Handle the case when no match is found in the rule string\n",
    "            print(f\"Warning: No match found for rule: {rule}\")\n",
    "\n",
    "    # Return a pandas DataFrame\n",
    "    return pd.DataFrame(output_rules, columns=['Left_rule', 'Right_rule', 'Support', 'Confidence'])\n"
   ]
  },
  {
   "cell_type": "code",
   "execution_count": 28,
   "id": "e2d088b4-14e8-4e4c-b96f-ac97490ae416",
   "metadata": {},
   "outputs": [
    {
     "name": "stderr",
     "output_type": "stream",
     "text": [
      "사용법: java [-options] class [args...]\n",
      "           (클래스 실행)\n",
      "   또는  java [-options] -jar jarfile [args...]\n",
      "           (jar 파일 실행)\n",
      "여기서 options는 다음과 같습니다.\n",
      "    -d32\t  사용 가능한 경우 32비트 데이터 모델을 사용합니다.\n",
      "    -d64\t  사용 가능한 경우 64비트 데이터 모델을 사용합니다.\n",
      "    -server\t  \"server\" VM을 선택합니다.\n",
      "                  기본 VM은 server입니다.,\n",
      "                  서버급 시스템에서 실행 중이기 때문입니다.\n",
      "\n",
      "\n",
      "    -cp <디렉토리 및 zip/jar 파일의 클래스 검색 경로>\n",
      "    -classpath <디렉토리 및 zip/jar 파일의 클래스 검색 경로>\n",
      "                  클래스 파일을 검색할 :(으)로 구분된 디렉토리,\n",
      "                  JAR 아카이브 및 ZIP 아카이브 목록입니다.\n",
      "    -D<name>=<value>\n",
      "                  시스템 속성을 설정합니다.\n",
      "    -verbose:[class|gc|jni]\n",
      "                  상세 정보 출력을 사용으로 설��합니다.\n",
      "    -version      제품 버전을 인쇄한 후 종료합니다.\n",
      "    -version:<value>\n",
      "                  경고: 이 기능은 사용되지 않으며\n",
      "                  이후 릴리스에서 제거됩니다.\n",
      "                  실행할 버전을 지정해야 합니다.\n",
      "    -showversion  제품 버전을 인쇄한 후 계속합니다.\n",
      "    -jre-restrict-search | -no-jre-restrict-search\n",
      "                  경고: 이 기능은 사용되지 않으며\n",
      "                  이후 릴리스에서 제거됩니다.\n",
      "                  버전 검색에서 사용자 전용 JRE를 포함/제외합니다.\n",
      "    -? -help      이 도움말 메시지를 인쇄합니다.\n",
      "    -X            비표준 옵션에 대한 도움말을 인쇄합니다.\n",
      "    -ea[:<packagename>...|:<classname>]\n",
      "    -enableassertions[:<packagename>...|:<classname>]\n",
      "                  세분성이 지정된 검증을 사용으로 설정합니다.\n",
      "    -da[:<packagename>...|:<classname>]\n",
      "    -disableassertions[:<packagename>...|:<classname>]\n",
      "                  세분성이 지정된 검증을 사용 안함으로 설정합니다.\n",
      "    -esa | -enablesystemassertions\n",
      "                  시스템 검증을 사용으로 설정합니다.\n",
      "    -dsa | -disablesystemassertions\n",
      "                  시스템 검증을 사용 안함으로 설정합니다.\n",
      "    -agentlib:<libname>[=<options>]\n",
      "                  <libname> 고유 에이전트 라이브러리를 로드합니다(예: -agentlib:hprof).\n",
      "                  -agentlib:jdwp=help 및 -agentlib:hprof=help도 참조하십시오.\n",
      "    -agentpath:<pathname>[=<options>]\n",
      "                  전체 경로명을 사용하여 고유 에이전트 라이브러리를 로드합니다.\n",
      "    -javaagent:<jarpath>[=<options>]\n",
      "                  Java 프로그래밍 언어 에이전트를 로드합니다. java.lang.instrument를 참조하십시오.\n",
      "    -splash:<imagepath>\n",
      "                  이미지가 지정된 스플래시 화면을 표시합니다.\n",
      "자세한 내용은 http://www.oracle.com/technetwork/java/javase/documentation/index.html을 참조하십시오.\n"
     ]
    },
    {
     "ename": "FileNotFoundError",
     "evalue": "[Errno 2] No such file or directory: 'seq_rule_output.txt'",
     "output_type": "error",
     "traceback": [
      "\u001b[0;31m---------------------------------------------------------------------------\u001b[0m",
      "\u001b[0;31mFileNotFoundError\u001b[0m                         Traceback (most recent call last)",
      "Cell \u001b[0;32mIn[28], line 1\u001b[0m\n\u001b[0;32m----> 1\u001b[0m \u001b[43mget_association_rules\u001b[49m\u001b[43m(\u001b[49m\u001b[43msequences\u001b[49m\u001b[43m,\u001b[49m\u001b[43m \u001b[49m\u001b[38;5;241;43m0.01\u001b[39;49m\u001b[43m,\u001b[49m\u001b[38;5;241;43m0.01\u001b[39;49m\u001b[43m)\u001b[49m\n",
      "Cell \u001b[0;32mIn[26], line 43\u001b[0m, in \u001b[0;36mget_association_rules\u001b[0;34m(sequences, min_sup, min_conf)\u001b[0m\n\u001b[1;32m     40\u001b[0m subprocess\u001b[38;5;241m.\u001b[39mcall([\u001b[38;5;124m'\u001b[39m\u001b[38;5;124mjava\u001b[39m\u001b[38;5;124m'\u001b[39m, \u001b[38;5;124m'\u001b[39m\u001b[38;5;124m-jar\u001b[39m\u001b[38;5;124m'\u001b[39m, \u001b[38;5;124m'\u001b[39m\u001b[38;5;124mspmf.jar\u001b[39m\u001b[38;5;124m'\u001b[39m, \u001b[38;5;124m'\u001b[39m\u001b[38;5;124mrun\u001b[39m\u001b[38;5;124m'\u001b[39m, \u001b[38;5;124m'\u001b[39m\u001b[38;5;124mRuleGrowth\u001b[39m\u001b[38;5;124m'\u001b[39m, \u001b[38;5;124m'\u001b[39m\u001b[38;5;124mseq_rule_input.txt\u001b[39m\u001b[38;5;124m'\u001b[39m, \u001b[38;5;124m'\u001b[39m\u001b[38;5;124mseq_rule_output.txt\u001b[39m\u001b[38;5;124m'\u001b[39m, supp_param, conf_param], shell\u001b[38;5;241m=\u001b[39m\u001b[38;5;28;01mTrue\u001b[39;00m)\n\u001b[1;32m     42\u001b[0m \u001b[38;5;66;03m# read back the output rules\u001b[39;00m\n\u001b[0;32m---> 43\u001b[0m outputs \u001b[38;5;241m=\u001b[39m \u001b[38;5;28;43mopen\u001b[39;49m\u001b[43m(\u001b[49m\u001b[38;5;124;43m'\u001b[39;49m\u001b[38;5;124;43mseq_rule_output.txt\u001b[39;49m\u001b[38;5;124;43m'\u001b[39;49m\u001b[43m,\u001b[49m\u001b[43m \u001b[49m\u001b[38;5;124;43m'\u001b[39;49m\u001b[38;5;124;43mr\u001b[39;49m\u001b[38;5;124;43m'\u001b[39;49m\u001b[43m)\u001b[49m\u001b[38;5;241m.\u001b[39mread()\u001b[38;5;241m.\u001b[39mstrip()\u001b[38;5;241m.\u001b[39msplit(\u001b[38;5;124m'\u001b[39m\u001b[38;5;130;01m\\n\u001b[39;00m\u001b[38;5;124m'\u001b[39m)\n\u001b[1;32m     44\u001b[0m output_rules \u001b[38;5;241m=\u001b[39m []\n\u001b[1;32m     45\u001b[0m \u001b[38;5;28;01mfor\u001b[39;00m rule \u001b[38;5;129;01min\u001b[39;00m outputs:\n",
      "File \u001b[0;32m/Library/Frameworks/Python.framework/Versions/3.11/lib/python3.11/site-packages/IPython/core/interactiveshell.py:284\u001b[0m, in \u001b[0;36m_modified_open\u001b[0;34m(file, *args, **kwargs)\u001b[0m\n\u001b[1;32m    277\u001b[0m \u001b[38;5;28;01mif\u001b[39;00m file \u001b[38;5;129;01min\u001b[39;00m {\u001b[38;5;241m0\u001b[39m, \u001b[38;5;241m1\u001b[39m, \u001b[38;5;241m2\u001b[39m}:\n\u001b[1;32m    278\u001b[0m     \u001b[38;5;28;01mraise\u001b[39;00m \u001b[38;5;167;01mValueError\u001b[39;00m(\n\u001b[1;32m    279\u001b[0m         \u001b[38;5;124mf\u001b[39m\u001b[38;5;124m\"\u001b[39m\u001b[38;5;124mIPython won\u001b[39m\u001b[38;5;124m'\u001b[39m\u001b[38;5;124mt let you open fd=\u001b[39m\u001b[38;5;132;01m{\u001b[39;00mfile\u001b[38;5;132;01m}\u001b[39;00m\u001b[38;5;124m by default \u001b[39m\u001b[38;5;124m\"\u001b[39m\n\u001b[1;32m    280\u001b[0m         \u001b[38;5;124m\"\u001b[39m\u001b[38;5;124mas it is likely to crash IPython. If you know what you are doing, \u001b[39m\u001b[38;5;124m\"\u001b[39m\n\u001b[1;32m    281\u001b[0m         \u001b[38;5;124m\"\u001b[39m\u001b[38;5;124myou can use builtins\u001b[39m\u001b[38;5;124m'\u001b[39m\u001b[38;5;124m open.\u001b[39m\u001b[38;5;124m\"\u001b[39m\n\u001b[1;32m    282\u001b[0m     )\n\u001b[0;32m--> 284\u001b[0m \u001b[38;5;28;01mreturn\u001b[39;00m \u001b[43mio_open\u001b[49m\u001b[43m(\u001b[49m\u001b[43mfile\u001b[49m\u001b[43m,\u001b[49m\u001b[43m \u001b[49m\u001b[38;5;241;43m*\u001b[39;49m\u001b[43margs\u001b[49m\u001b[43m,\u001b[49m\u001b[43m \u001b[49m\u001b[38;5;241;43m*\u001b[39;49m\u001b[38;5;241;43m*\u001b[39;49m\u001b[43mkwargs\u001b[49m\u001b[43m)\u001b[49m\n",
      "\u001b[0;31mFileNotFoundError\u001b[0m: [Errno 2] No such file or directory: 'seq_rule_output.txt'"
     ]
    }
   ],
   "source": [
    "get_association_rules(sequences, 0.01,0.01)"
   ]
  },
  {
   "cell_type": "code",
   "execution_count": null,
   "id": "47b364f1-17f0-433f-9bf1-cc06215917d4",
   "metadata": {},
   "outputs": [],
   "source": [
    "#def mine_sequences(seq_rule_input, seq_rule_output, min_support):\n",
    "    # Convert min_support to a percentage string\n",
    " #   min_support_str = f\"{min_support}%\"\n",
    "\n",
    "    # Define the SPMF command and parameters\n",
    "  #  spmf_command = [\n",
    "        'java', '-jar', 'spmf.jar', 'run', 'PrefixSpan', seq_rule_input, seq_rule_output, min_support_str\n",
    "    ]\n",
    "\n",
    "    # Execute the SPMF command\n",
    "   # subprocess.run(spmf_command)\n",
    "\n",
    "# Call the function to mine sequences with a min_support of 2%\n",
    "#mine_sequences('seq_rule_input.txt', 'seq_rule_output.txt', min_support=2)"
   ]
  },
  {
   "cell_type": "code",
   "execution_count": null,
   "id": "31ba5a48-8914-4367-a983-560442a9313d",
   "metadata": {},
   "outputs": [],
   "source": [
    "import re\n",
    "\n",
    "def get_association_rules(sequences, outputs, min_sup, min_conf):\n",
    "    # ... (previous code) ...\n",
    "\n",
    "    # Initialize an empty list to store the extracted rules\n",
    "    output_rules = []\n",
    "\n",
    "    for rule in outputs:\n",
    "        print(\"****\", rule)\n",
    "        match = re.search(pattern=r'([0-9\\,]+) ==> ([0-9\\,]+) #SUP: ([0-9]+) #CONF: ([0-9\\,]+)', string=rule)\n",
    "        if match:\n",
    "            left, right, sup, conf = match.groups()\n",
    "            sup = int(sup) / len(sequences)\n",
    "            conf = float(conf)\n",
    "            output_rules.append([[output_dict[x] for x in left.split(',')], [output_dict[x] for x in right.split(',')], sup, conf])\n",
    "        else:\n",
    "            # Handle the case when no match is found in the rule string\n",
    "            print(f\"Warning: No match found for rule: {rule}\")\n",
    "\n",
    "     Return a pandas DataFrame\n",
    "    return pd.DataFrame \n"
   ]
  },
  {
   "cell_type": "code",
   "execution_count": null,
   "id": "73806cfc-64f3-407b-9598-3cbfb1ce2a72",
   "metadata": {},
   "outputs": [],
   "source": [
    "df.info()\n"
   ]
  },
  {
   "cell_type": "code",
   "execution_count": null,
   "id": "2db64a1a-e6b4-4299-abda-d672c13d3bbe",
   "metadata": {},
   "outputs": [],
   "source": []
  }
 ],
 "metadata": {
  "kernelspec": {
   "display_name": "Python 3 (ipykernel)",
   "language": "python",
   "name": "python3"
  },
  "language_info": {
   "codemirror_mode": {
    "name": "ipython",
    "version": 3
   },
   "file_extension": ".py",
   "mimetype": "text/x-python",
   "name": "python",
   "nbconvert_exporter": "python",
   "pygments_lexer": "ipython3",
   "version": "3.11.4"
  }
 },
 "nbformat": 4,
 "nbformat_minor": 5
}
