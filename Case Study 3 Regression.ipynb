{
 "cells": [
  {
   "cell_type": "code",
   "execution_count": 4,
   "id": "cb653aa9",
   "metadata": {},
   "outputs": [],
   "source": [
    "import numpy as np\n",
    "import pandas as pd\n",
    "from sklearn.model_selection import train_test_split\n",
    "import matplotlib.pyplot as plt\n",
    "from sklearn import tree\n",
    "from sklearn.metrics import classification_report, accuracy_score\n",
    "from sklearn.model_selection import train_test_split\n",
    "from sklearn.preprocessing import StandardScaler\n",
    "from sklearn.model_selection import GridSearchCV\n",
    "from sklearn.tree import DecisionTreeClassifier\n",
    "import warnings"
   ]
  },
  {
   "cell_type": "markdown",
   "id": "cb5a51f8",
   "metadata": {},
   "source": [
    "# Preprocessing"
   ]
  },
  {
   "cell_type": "code",
   "execution_count": 5,
   "id": "64a38712",
   "metadata": {},
   "outputs": [],
   "source": [
    "warnings.filterwarnings('ignore')\n",
    "df = pd.read_csv('D3.csv')"
   ]
  },
  {
   "cell_type": "code",
   "execution_count": 6,
   "id": "5cb61a05",
   "metadata": {},
   "outputs": [
    {
     "name": "stdout",
     "output_type": "stream",
     "text": [
      "race                        1016\n",
      "gender                         0\n",
      "age                           10\n",
      "admission_type_id              0\n",
      "discharge_disposition_id       0\n",
      "admission_source_id            0\n",
      "time_in_hospital               0\n",
      "medical_specialty              0\n",
      "num_lab_procedures             0\n",
      "num_procedures                 0\n",
      "num_medications                0\n",
      "number_outpatient              0\n",
      "number_emergency               0\n",
      "number_inpatient               0\n",
      "number_diagnoses               0\n",
      "max_glu_serum                  0\n",
      "A1Cresult                      0\n",
      "metformin                      0\n",
      "repaglinide                    0\n",
      "nateglinide                    0\n",
      "chlorpropamide                 9\n",
      "glimepiride                    0\n",
      "acetohexamide                  0\n",
      "glipizide                      0\n",
      "glyburide                      0\n",
      "tolbutamide                    0\n",
      "insulin                        0\n",
      "change                         0\n",
      "diabetesMed                    0\n",
      "readmitted                     0\n",
      "dtype: int64\n"
     ]
    }
   ],
   "source": [
    "missing_values = df.isna() \n",
    "print(missing_values.sum())"
   ]
  },
  {
   "cell_type": "code",
   "execution_count": 7,
   "id": "78a5f6a7",
   "metadata": {},
   "outputs": [],
   "source": [
    "df = df.dropna(subset=[\"race\", \"chlorpropamide\", \"age\"])"
   ]
  },
  {
   "cell_type": "code",
   "execution_count": 8,
   "id": "b5d558b2",
   "metadata": {},
   "outputs": [
    {
     "name": "stdout",
     "output_type": "stream",
     "text": [
      "race                        0\n",
      "gender                      0\n",
      "age                         0\n",
      "admission_type_id           0\n",
      "discharge_disposition_id    0\n",
      "admission_source_id         0\n",
      "time_in_hospital            0\n",
      "medical_specialty           0\n",
      "num_lab_procedures          0\n",
      "num_procedures              0\n",
      "num_medications             0\n",
      "number_outpatient           0\n",
      "number_emergency            0\n",
      "number_inpatient            0\n",
      "number_diagnoses            0\n",
      "max_glu_serum               0\n",
      "A1Cresult                   0\n",
      "metformin                   0\n",
      "repaglinide                 0\n",
      "nateglinide                 0\n",
      "chlorpropamide              0\n",
      "glimepiride                 0\n",
      "acetohexamide               0\n",
      "glipizide                   0\n",
      "glyburide                   0\n",
      "tolbutamide                 0\n",
      "insulin                     0\n",
      "change                      0\n",
      "diabetesMed                 0\n",
      "readmitted                  0\n",
      "dtype: int64\n"
     ]
    }
   ],
   "source": [
    "missing_values = df.isna() \n",
    "print(missing_values.sum())"
   ]
  },
  {
   "cell_type": "code",
   "execution_count": 9,
   "id": "7f8a278c",
   "metadata": {},
   "outputs": [
    {
     "name": "stdout",
     "output_type": "stream",
     "text": [
      "<class 'pandas.core.frame.DataFrame'>\n",
      "Int64Index: 50732 entries, 0 to 51765\n",
      "Data columns (total 30 columns):\n",
      " #   Column                    Non-Null Count  Dtype \n",
      "---  ------                    --------------  ----- \n",
      " 0   race                      50732 non-null  object\n",
      " 1   gender                    50732 non-null  object\n",
      " 2   age                       50732 non-null  object\n",
      " 3   admission_type_id         50732 non-null  int64 \n",
      " 4   discharge_disposition_id  50732 non-null  int64 \n",
      " 5   admission_source_id       50732 non-null  int64 \n",
      " 6   time_in_hospital          50732 non-null  int64 \n",
      " 7   medical_specialty         50732 non-null  object\n",
      " 8   num_lab_procedures        50732 non-null  int64 \n",
      " 9   num_procedures            50732 non-null  int64 \n",
      " 10  num_medications           50732 non-null  int64 \n",
      " 11  number_outpatient         50732 non-null  int64 \n",
      " 12  number_emergency          50732 non-null  int64 \n",
      " 13  number_inpatient          50732 non-null  int64 \n",
      " 14  number_diagnoses          50732 non-null  int64 \n",
      " 15  max_glu_serum             50732 non-null  object\n",
      " 16  A1Cresult                 50732 non-null  object\n",
      " 17  metformin                 50732 non-null  object\n",
      " 18  repaglinide               50732 non-null  object\n",
      " 19  nateglinide               50732 non-null  object\n",
      " 20  chlorpropamide            50732 non-null  object\n",
      " 21  glimepiride               50732 non-null  object\n",
      " 22  acetohexamide             50732 non-null  object\n",
      " 23  glipizide                 50732 non-null  object\n",
      " 24  glyburide                 50732 non-null  object\n",
      " 25  tolbutamide               50732 non-null  object\n",
      " 26  insulin                   50732 non-null  object\n",
      " 27  change                    50732 non-null  bool  \n",
      " 28  diabetesMed               50732 non-null  bool  \n",
      " 29  readmitted                50732 non-null  int64 \n",
      "dtypes: bool(2), int64(12), object(16)\n",
      "memory usage: 11.3+ MB\n"
     ]
    }
   ],
   "source": [
    "df.info()"
   ]
  },
  {
   "cell_type": "code",
   "execution_count": 10,
   "id": "72eafa2b",
   "metadata": {},
   "outputs": [
    {
     "data": {
      "text/plain": [
       "array(['No'], dtype=object)"
      ]
     },
     "execution_count": 10,
     "metadata": {},
     "output_type": "execute_result"
    }
   ],
   "source": [
    "df['tolbutamide'].unique()"
   ]
  },
  {
   "cell_type": "code",
   "execution_count": 11,
   "id": "9f84bc8b",
   "metadata": {},
   "outputs": [
    {
     "data": {
      "text/plain": [
       "array(['No'], dtype=object)"
      ]
     },
     "execution_count": 11,
     "metadata": {},
     "output_type": "execute_result"
    }
   ],
   "source": [
    "df['acetohexamide'].unique()"
   ]
  },
  {
   "cell_type": "code",
   "execution_count": 12,
   "id": "91ad426f",
   "metadata": {},
   "outputs": [],
   "source": [
    "df.drop(['acetohexamide', 'tolbutamide'], axis=1, inplace=True)\n",
    "df.drop(['admission_type_id', 'discharge_disposition_id', 'admission_source_id'], axis=1, inplace=True)"
   ]
  },
  {
   "cell_type": "code",
   "execution_count": 13,
   "id": "b501c05f",
   "metadata": {},
   "outputs": [
    {
     "name": "stdout",
     "output_type": "stream",
     "text": [
      "<class 'pandas.core.frame.DataFrame'>\n",
      "Int64Index: 50732 entries, 0 to 51765\n",
      "Data columns (total 25 columns):\n",
      " #   Column              Non-Null Count  Dtype \n",
      "---  ------              --------------  ----- \n",
      " 0   race                50732 non-null  object\n",
      " 1   gender              50732 non-null  object\n",
      " 2   age                 50732 non-null  object\n",
      " 3   time_in_hospital    50732 non-null  int64 \n",
      " 4   medical_specialty   50732 non-null  object\n",
      " 5   num_lab_procedures  50732 non-null  int64 \n",
      " 6   num_procedures      50732 non-null  int64 \n",
      " 7   num_medications     50732 non-null  int64 \n",
      " 8   number_outpatient   50732 non-null  int64 \n",
      " 9   number_emergency    50732 non-null  int64 \n",
      " 10  number_inpatient    50732 non-null  int64 \n",
      " 11  number_diagnoses    50732 non-null  int64 \n",
      " 12  max_glu_serum       50732 non-null  object\n",
      " 13  A1Cresult           50732 non-null  object\n",
      " 14  metformin           50732 non-null  object\n",
      " 15  repaglinide         50732 non-null  object\n",
      " 16  nateglinide         50732 non-null  object\n",
      " 17  chlorpropamide      50732 non-null  object\n",
      " 18  glimepiride         50732 non-null  object\n",
      " 19  glipizide           50732 non-null  object\n",
      " 20  glyburide           50732 non-null  object\n",
      " 21  insulin             50732 non-null  object\n",
      " 22  change              50732 non-null  bool  \n",
      " 23  diabetesMed         50732 non-null  bool  \n",
      " 24  readmitted          50732 non-null  int64 \n",
      "dtypes: bool(2), int64(9), object(14)\n",
      "memory usage: 9.4+ MB\n"
     ]
    }
   ],
   "source": [
    "df.info()"
   ]
  },
  {
   "cell_type": "code",
   "execution_count": 14,
   "id": "afa9c884-c7ec-4270-9c88-3a4ce23d8318",
   "metadata": {},
   "outputs": [],
   "source": [
    "from sklearn.preprocessing import StandardScaler\n",
    "\n",
    "# mapping\n",
    "df['age']=df['age'].astype(str)\n",
    "age_map = {'[80-90)':9, '[70-80)':8, '[50-60)':6, '[40-50)':5, '[60-70)':7, \n",
    "'[90-100)':1, '[30-40)':4,'[10-20)':2, '[20-30)':3, '[0-10)':1}\n",
    "df['age'] = df['age'].map(age_map)\n",
    "df['readmitted'] = df['readmitted'].astype(bool)\n",
    "\n",
    "df = pd.get_dummies(df)\n",
    "\n",
    "y = df['readmitted']\n",
    "X = df.drop(['readmitted'], axis=1)\n",
    "X_mat = X.to_numpy()\n"
   ]
  },
  {
   "cell_type": "code",
   "execution_count": 15,
   "id": "2e7a1560",
   "metadata": {},
   "outputs": [
    {
     "name": "stdout",
     "output_type": "stream",
     "text": [
      "<class 'pandas.core.frame.DataFrame'>\n",
      "Int64Index: 50732 entries, 0 to 51765\n",
      "Columns: 112 entries, age to insulin_Up\n",
      "dtypes: bool(3), int64(9), uint8(100)\n",
      "memory usage: 8.9 MB\n"
     ]
    }
   ],
   "source": [
    "df.info()"
   ]
  },
  {
   "cell_type": "code",
   "execution_count": 16,
   "id": "7aa9aee2",
   "metadata": {},
   "outputs": [],
   "source": [
    "rs = 10\n",
    "X_train, X_test, y_train, y_test = train_test_split(X_mat, y, test_size=0.3, stratify=y, random_state=rs)"
   ]
  },
  {
   "cell_type": "markdown",
   "id": "332ce596",
   "metadata": {},
   "source": [
    "# Data Standardization"
   ]
  },
  {
   "cell_type": "code",
   "execution_count": 17,
   "id": "dfa836a0-0963-4bc8-9797-97d91072e368",
   "metadata": {},
   "outputs": [
    {
     "name": "stdout",
     "output_type": "stream",
     "text": [
      "Before scaling\n",
      "-------------\n",
      "Variable #0: min 1, max 9, mean 6.91 and std dev 1.82\n",
      "Variable #1: min 1, max 14, mean 4.24 and std dev 2.87\n",
      "Variable #2: min 1, max 121, mean 43.89 and std dev 19.99\n",
      "Variable #3: min 0, max 6, mean 1.31 and std dev 1.72\n",
      "Variable #4: min 1, max 75, mean 16.74 and std dev 8.08\n",
      "After scaling\n",
      "-------------\n",
      "Variable #0: min -3.238106030760721, max 1.1483339751280162, mean -0.00 and std dev 1.00\n",
      "Variable #1: min -1.1297799677610392, max 3.404898958986864, mean -0.00 and std dev 1.00\n",
      "Variable #2: min -2.1451034047124797, max 3.856792422546743, mean 0.00 and std dev 1.00\n",
      "Variable #3: min -0.7636830905148733, max 2.728451072550305, mean -0.00 and std dev 1.00\n",
      "Variable #4: min -1.9486845888843802, max 7.214428458345791, mean -0.00 and std dev 1.00\n"
     ]
    }
   ],
   "source": [
    "# initialise a standard scaler object\n",
    "scaler = StandardScaler()\n",
    "\n",
    "# visualise min, max, mean and standard dev of data before scaling\n",
    "print(\"Before scaling\\n-------------\")\n",
    "for i in range(5):\n",
    "    col = X_train[:,i]\n",
    "    print(\"Variable #{}: min {}, max {}, mean {:.2f} and std dev {:.2f}\".\n",
    "          format(i, min(col), max(col), np.mean(col), np.std(col)))\n",
    "\n",
    "X_train = scaler.fit_transform(X_train, y_train)\n",
    "\n",
    "print(\"After scaling\\n-------------\")\n",
    "for i in range(5):\n",
    "    col = X_train[:,i]\n",
    "    print(\"Variable #{}: min {}, max {}, mean {:.2f} and std dev {:.2f}\".\n",
    "          format(i, min(col), max(col), np.mean(col), np.std(col)))\n",
    "\n",
    "X_test = scaler.transform(X_test)"
   ]
  },
  {
   "cell_type": "markdown",
   "id": "287268ae",
   "metadata": {},
   "source": [
    "# Regression with Default Setting"
   ]
  },
  {
   "cell_type": "code",
   "execution_count": 18,
   "id": "d5598565",
   "metadata": {},
   "outputs": [],
   "source": [
    "from sklearn.linear_model import LogisticRegression"
   ]
  },
  {
   "cell_type": "code",
   "execution_count": 19,
   "id": "11dd0c2b",
   "metadata": {},
   "outputs": [
    {
     "data": {
      "text/html": [
       "<style>#sk-container-id-1 {color: black;}#sk-container-id-1 pre{padding: 0;}#sk-container-id-1 div.sk-toggleable {background-color: white;}#sk-container-id-1 label.sk-toggleable__label {cursor: pointer;display: block;width: 100%;margin-bottom: 0;padding: 0.3em;box-sizing: border-box;text-align: center;}#sk-container-id-1 label.sk-toggleable__label-arrow:before {content: \"▸\";float: left;margin-right: 0.25em;color: #696969;}#sk-container-id-1 label.sk-toggleable__label-arrow:hover:before {color: black;}#sk-container-id-1 div.sk-estimator:hover label.sk-toggleable__label-arrow:before {color: black;}#sk-container-id-1 div.sk-toggleable__content {max-height: 0;max-width: 0;overflow: hidden;text-align: left;background-color: #f0f8ff;}#sk-container-id-1 div.sk-toggleable__content pre {margin: 0.2em;color: black;border-radius: 0.25em;background-color: #f0f8ff;}#sk-container-id-1 input.sk-toggleable__control:checked~div.sk-toggleable__content {max-height: 200px;max-width: 100%;overflow: auto;}#sk-container-id-1 input.sk-toggleable__control:checked~label.sk-toggleable__label-arrow:before {content: \"▾\";}#sk-container-id-1 div.sk-estimator input.sk-toggleable__control:checked~label.sk-toggleable__label {background-color: #d4ebff;}#sk-container-id-1 div.sk-label input.sk-toggleable__control:checked~label.sk-toggleable__label {background-color: #d4ebff;}#sk-container-id-1 input.sk-hidden--visually {border: 0;clip: rect(1px 1px 1px 1px);clip: rect(1px, 1px, 1px, 1px);height: 1px;margin: -1px;overflow: hidden;padding: 0;position: absolute;width: 1px;}#sk-container-id-1 div.sk-estimator {font-family: monospace;background-color: #f0f8ff;border: 1px dotted black;border-radius: 0.25em;box-sizing: border-box;margin-bottom: 0.5em;}#sk-container-id-1 div.sk-estimator:hover {background-color: #d4ebff;}#sk-container-id-1 div.sk-parallel-item::after {content: \"\";width: 100%;border-bottom: 1px solid gray;flex-grow: 1;}#sk-container-id-1 div.sk-label:hover label.sk-toggleable__label {background-color: #d4ebff;}#sk-container-id-1 div.sk-serial::before {content: \"\";position: absolute;border-left: 1px solid gray;box-sizing: border-box;top: 0;bottom: 0;left: 50%;z-index: 0;}#sk-container-id-1 div.sk-serial {display: flex;flex-direction: column;align-items: center;background-color: white;padding-right: 0.2em;padding-left: 0.2em;position: relative;}#sk-container-id-1 div.sk-item {position: relative;z-index: 1;}#sk-container-id-1 div.sk-parallel {display: flex;align-items: stretch;justify-content: center;background-color: white;position: relative;}#sk-container-id-1 div.sk-item::before, #sk-container-id-1 div.sk-parallel-item::before {content: \"\";position: absolute;border-left: 1px solid gray;box-sizing: border-box;top: 0;bottom: 0;left: 50%;z-index: -1;}#sk-container-id-1 div.sk-parallel-item {display: flex;flex-direction: column;z-index: 1;position: relative;background-color: white;}#sk-container-id-1 div.sk-parallel-item:first-child::after {align-self: flex-end;width: 50%;}#sk-container-id-1 div.sk-parallel-item:last-child::after {align-self: flex-start;width: 50%;}#sk-container-id-1 div.sk-parallel-item:only-child::after {width: 0;}#sk-container-id-1 div.sk-dashed-wrapped {border: 1px dashed gray;margin: 0 0.4em 0.5em 0.4em;box-sizing: border-box;padding-bottom: 0.4em;background-color: white;}#sk-container-id-1 div.sk-label label {font-family: monospace;font-weight: bold;display: inline-block;line-height: 1.2em;}#sk-container-id-1 div.sk-label-container {text-align: center;}#sk-container-id-1 div.sk-container {/* jupyter's `normalize.less` sets `[hidden] { display: none; }` but bootstrap.min.css set `[hidden] { display: none !important; }` so we also need the `!important` here to be able to override the default hidden behavior on the sphinx rendered scikit-learn.org. See: https://github.com/scikit-learn/scikit-learn/issues/21755 */display: inline-block !important;position: relative;}#sk-container-id-1 div.sk-text-repr-fallback {display: none;}</style><div id=\"sk-container-id-1\" class=\"sk-top-container\"><div class=\"sk-text-repr-fallback\"><pre>LogisticRegression(random_state=10)</pre><b>In a Jupyter environment, please rerun this cell to show the HTML representation or trust the notebook. <br />On GitHub, the HTML representation is unable to render, please try loading this page with nbviewer.org.</b></div><div class=\"sk-container\" hidden><div class=\"sk-item\"><div class=\"sk-estimator sk-toggleable\"><input class=\"sk-toggleable__control sk-hidden--visually\" id=\"sk-estimator-id-1\" type=\"checkbox\" checked><label for=\"sk-estimator-id-1\" class=\"sk-toggleable__label sk-toggleable__label-arrow\">LogisticRegression</label><div class=\"sk-toggleable__content\"><pre>LogisticRegression(random_state=10)</pre></div></div></div></div></div>"
      ],
      "text/plain": [
       "LogisticRegression(random_state=10)"
      ]
     },
     "execution_count": 19,
     "metadata": {},
     "output_type": "execute_result"
    }
   ],
   "source": [
    "model = LogisticRegression(random_state=rs)\n",
    "\n",
    "# fit it to training data\n",
    "model.fit(X_train, y_train)"
   ]
  },
  {
   "cell_type": "code",
   "execution_count": 20,
   "id": "bb41e5f4",
   "metadata": {},
   "outputs": [
    {
     "data": {
      "text/plain": [
       "{'C': 1.0,\n",
       " 'class_weight': None,\n",
       " 'dual': False,\n",
       " 'fit_intercept': True,\n",
       " 'intercept_scaling': 1,\n",
       " 'l1_ratio': None,\n",
       " 'max_iter': 100,\n",
       " 'multi_class': 'auto',\n",
       " 'n_jobs': None,\n",
       " 'penalty': 'l2',\n",
       " 'random_state': 10,\n",
       " 'solver': 'lbfgs',\n",
       " 'tol': 0.0001,\n",
       " 'verbose': 0,\n",
       " 'warm_start': False}"
      ]
     },
     "execution_count": 20,
     "metadata": {},
     "output_type": "execute_result"
    }
   ],
   "source": [
    "model.get_params()"
   ]
  },
  {
   "cell_type": "code",
   "execution_count": 21,
   "id": "b467b124",
   "metadata": {},
   "outputs": [
    {
     "name": "stdout",
     "output_type": "stream",
     "text": [
      "Train accuracy: 0.633053615679207\n",
      "Test accuracy: 0.6283837056504599\n",
      "              precision    recall  f1-score   support\n",
      "\n",
      "       False       0.62      0.79      0.70      8184\n",
      "        True       0.64      0.44      0.52      7036\n",
      "\n",
      "    accuracy                           0.63     15220\n",
      "   macro avg       0.63      0.62      0.61     15220\n",
      "weighted avg       0.63      0.63      0.62     15220\n",
      "\n"
     ]
    }
   ],
   "source": [
    "# training and test accuracy\n",
    "print(\"Train accuracy:\", model.score(X_train, y_train))\n",
    "print(\"Test accuracy:\", model.score(X_test, y_test))\n",
    "\n",
    "# classification report on test data\n",
    "y_pred = model.predict(X_test)\n",
    "print(classification_report(y_test, y_pred))"
   ]
  },
  {
   "cell_type": "code",
   "execution_count": 22,
   "id": "4c6ed9b5",
   "metadata": {},
   "outputs": [
    {
     "name": "stdout",
     "output_type": "stream",
     "text": [
      "[[ 9.24822644e-02 -9.86551160e-03  4.02698139e-02 -6.36029386e-02\n",
      "   4.52301078e-02  1.15386357e-01  2.69655842e-01  4.93025969e-01\n",
      "   9.63011810e-02  2.83584083e-02  1.65881793e-01  1.03436762e-03\n",
      "  -3.53294136e-02  3.39931340e-02 -5.76875033e-02 -2.32927881e-02\n",
      "   1.90587984e-02 -1.85852218e-02 -4.45214808e-02  0.00000000e+00\n",
      "  -2.52598501e-02  2.84805880e-02 -1.14392086e-02  3.04993453e-02\n",
      "   1.72874663e-02 -2.01738782e-02  1.03127179e-03  2.23225017e-02\n",
      "  -1.06699355e-02  9.95827912e-03 -9.71290819e-04 -1.10227403e-02\n",
      "   4.00644686e-03 -7.76630103e-02  6.72593844e-02 -6.04367815e-03\n",
      "  -8.86737938e-03 -4.14766759e-02 -2.13948689e-02 -5.46944866e-02\n",
      "  -3.33761765e-03 -8.73247752e-03 -3.63846884e-02 -6.15914893e-02\n",
      "  -1.85316971e-02 -2.12707232e-02  5.73611118e-03 -6.24509521e-02\n",
      "   8.13012443e-03 -4.08483466e-02 -2.11675928e-02 -1.40633644e-04\n",
      "   2.63300056e-02  3.69329777e-03  9.16458434e-03  1.55797316e-02\n",
      "   1.20842412e-02 -2.33042811e-04  4.60885966e-02  9.49100328e-03\n",
      "  -2.09494432e-02 -1.72441814e-02 -6.08141650e-02 -2.04674003e-02\n",
      "  -5.82231167e-02 -4.35354554e-02  4.82478220e-02  6.11327011e-04\n",
      "  -1.31718993e-02  1.27369487e-02 -6.33586286e-03  8.43153502e-03\n",
      "  -1.00488276e-02  4.72985796e-02 -3.93902555e-02  1.66403654e-02\n",
      "  -5.44745930e-03  1.90460743e-02  2.68293187e-03 -1.99613570e-02\n",
      "   8.65224476e-03  3.27795320e-02 -3.07968593e-02 -1.86311526e-02\n",
      "  -1.77267965e-02 -3.80607462e-03  6.52286366e-03  1.14879812e-03\n",
      "   1.40474970e-03  9.45641125e-03 -1.18049565e-02  7.16394201e-03\n",
      "  -6.06002606e-04  6.06002606e-04  0.00000000e+00  3.48078163e-03\n",
      "   2.44064160e-04 -9.41456126e-04  4.62006959e-05 -1.27863648e-03\n",
      "  -1.48304213e-02  1.48191638e-02  3.75400270e-03  3.04524696e-03\n",
      "  -5.27182547e-03  3.95182695e-03  3.30088437e-03  2.57510273e-02\n",
      "   4.19283251e-02 -6.80528482e-02  2.56263045e-03]]\n"
     ]
    }
   ],
   "source": [
    "print(model.coef_)"
   ]
  },
  {
   "cell_type": "code",
   "execution_count": 23,
   "id": "d7a7a62e",
   "metadata": {},
   "outputs": [
    {
     "name": "stdout",
     "output_type": "stream",
     "text": [
      "age : 0.0924822644475288\n",
      "time_in_hospital : -0.009865511596188425\n",
      "num_lab_procedures : 0.04026981389562807\n",
      "num_procedures : -0.06360293856518036\n",
      "num_medications : 0.045230107839576095\n",
      "number_outpatient : 0.11538635656197452\n",
      "number_emergency : 0.26965584177963314\n",
      "number_inpatient : 0.49302596915703456\n",
      "number_diagnoses : 0.09630118096105669\n",
      "change : 0.028358408324413935\n",
      "diabetesMed : 0.16588179321698784\n",
      "race_AfricanAmerican : 0.0010343676245720503\n",
      "race_Asian : -0.035329413612109964\n",
      "race_Caucasian : 0.033993134019787964\n",
      "race_Hispanic : -0.05768750327015278\n",
      "race_Other : -0.023292788075030747\n",
      "gender_Female : 0.019058798401235515\n",
      "gender_Male : -0.018585221834075547\n",
      "gender_Unknown/Invalid : -0.0445214807762456\n",
      "medical_specialty_Anesthesiology : 0.0\n"
     ]
    }
   ],
   "source": [
    "feature_names = X.columns\n",
    "coef = model.coef_[0]\n",
    "\n",
    "# limit to 30 features\n",
    "coef = coef[:20]\n",
    "\n",
    "for i in range(len(coef)):\n",
    "    print(feature_names[i], ':', coef[i])"
   ]
  },
  {
   "cell_type": "code",
   "execution_count": 24,
   "id": "978b6b16",
   "metadata": {},
   "outputs": [
    {
     "name": "stdout",
     "output_type": "stream",
     "text": [
      "number_inpatient : 0.49302596915703456\n",
      "number_emergency : 0.26965584177963314\n",
      "diabetesMed : 0.16588179321698784\n",
      "number_outpatient : 0.11538635656197452\n",
      "number_diagnoses : 0.09630118096105669\n",
      "age : 0.0924822644475288\n",
      "medical_specialty_InternalMedicine : -0.0776630103149326\n",
      "insulin_Steady : -0.06805284822025609\n",
      "medical_specialty_Invalid : 0.06725938443233354\n",
      "num_procedures : -0.06360293856518036\n",
      "medical_specialty_Pathology : -0.06245095213368535\n",
      "medical_specialty_Orthopedics-Reconstructive : -0.06159148934994775\n",
      "medical_specialty_Surgery-Cardiovascular/Thoracic : -0.06081416498174879\n",
      "medical_specialty_Surgery-Maxillofacial : -0.05822311672443202\n",
      "race_Hispanic : -0.05768750327015278\n",
      "medical_specialty_ObstetricsandGynecology : -0.05469448663584459\n",
      "medical_specialty_Surgery-Pediatric : 0.048247821987153064\n",
      "max_glu_serum_>300 : 0.04729857957533709\n",
      "medical_specialty_Resident : 0.04608859664038028\n",
      "num_medications : 0.045230107839576095\n"
     ]
    }
   ],
   "source": [
    "# grab feature importances from the model and feature name from the original X\n",
    "coef = model.coef_[0]\n",
    "feature_names = X.columns\n",
    "\n",
    "# sort them out in descending order\n",
    "indices = np.argsort(np.absolute(coef))\n",
    "indices = np.flip(indices, axis=0)\n",
    "\n",
    "# limit to 20 features, you can leave this out to print out everything\n",
    "indices = indices[:20]\n",
    "\n",
    "for i in indices:\n",
    "    print(feature_names[i], ':', coef[i])"
   ]
  },
  {
   "cell_type": "markdown",
   "id": "ba9e8bea",
   "metadata": {},
   "source": [
    "# Regression model tuned with GridSearchCV"
   ]
  },
  {
   "cell_type": "code",
   "execution_count": 25,
   "id": "028be572",
   "metadata": {},
   "outputs": [
    {
     "data": {
      "text/html": [
       "<style>#sk-container-id-2 {color: black;}#sk-container-id-2 pre{padding: 0;}#sk-container-id-2 div.sk-toggleable {background-color: white;}#sk-container-id-2 label.sk-toggleable__label {cursor: pointer;display: block;width: 100%;margin-bottom: 0;padding: 0.3em;box-sizing: border-box;text-align: center;}#sk-container-id-2 label.sk-toggleable__label-arrow:before {content: \"▸\";float: left;margin-right: 0.25em;color: #696969;}#sk-container-id-2 label.sk-toggleable__label-arrow:hover:before {color: black;}#sk-container-id-2 div.sk-estimator:hover label.sk-toggleable__label-arrow:before {color: black;}#sk-container-id-2 div.sk-toggleable__content {max-height: 0;max-width: 0;overflow: hidden;text-align: left;background-color: #f0f8ff;}#sk-container-id-2 div.sk-toggleable__content pre {margin: 0.2em;color: black;border-radius: 0.25em;background-color: #f0f8ff;}#sk-container-id-2 input.sk-toggleable__control:checked~div.sk-toggleable__content {max-height: 200px;max-width: 100%;overflow: auto;}#sk-container-id-2 input.sk-toggleable__control:checked~label.sk-toggleable__label-arrow:before {content: \"▾\";}#sk-container-id-2 div.sk-estimator input.sk-toggleable__control:checked~label.sk-toggleable__label {background-color: #d4ebff;}#sk-container-id-2 div.sk-label input.sk-toggleable__control:checked~label.sk-toggleable__label {background-color: #d4ebff;}#sk-container-id-2 input.sk-hidden--visually {border: 0;clip: rect(1px 1px 1px 1px);clip: rect(1px, 1px, 1px, 1px);height: 1px;margin: -1px;overflow: hidden;padding: 0;position: absolute;width: 1px;}#sk-container-id-2 div.sk-estimator {font-family: monospace;background-color: #f0f8ff;border: 1px dotted black;border-radius: 0.25em;box-sizing: border-box;margin-bottom: 0.5em;}#sk-container-id-2 div.sk-estimator:hover {background-color: #d4ebff;}#sk-container-id-2 div.sk-parallel-item::after {content: \"\";width: 100%;border-bottom: 1px solid gray;flex-grow: 1;}#sk-container-id-2 div.sk-label:hover label.sk-toggleable__label {background-color: #d4ebff;}#sk-container-id-2 div.sk-serial::before {content: \"\";position: absolute;border-left: 1px solid gray;box-sizing: border-box;top: 0;bottom: 0;left: 50%;z-index: 0;}#sk-container-id-2 div.sk-serial {display: flex;flex-direction: column;align-items: center;background-color: white;padding-right: 0.2em;padding-left: 0.2em;position: relative;}#sk-container-id-2 div.sk-item {position: relative;z-index: 1;}#sk-container-id-2 div.sk-parallel {display: flex;align-items: stretch;justify-content: center;background-color: white;position: relative;}#sk-container-id-2 div.sk-item::before, #sk-container-id-2 div.sk-parallel-item::before {content: \"\";position: absolute;border-left: 1px solid gray;box-sizing: border-box;top: 0;bottom: 0;left: 50%;z-index: -1;}#sk-container-id-2 div.sk-parallel-item {display: flex;flex-direction: column;z-index: 1;position: relative;background-color: white;}#sk-container-id-2 div.sk-parallel-item:first-child::after {align-self: flex-end;width: 50%;}#sk-container-id-2 div.sk-parallel-item:last-child::after {align-self: flex-start;width: 50%;}#sk-container-id-2 div.sk-parallel-item:only-child::after {width: 0;}#sk-container-id-2 div.sk-dashed-wrapped {border: 1px dashed gray;margin: 0 0.4em 0.5em 0.4em;box-sizing: border-box;padding-bottom: 0.4em;background-color: white;}#sk-container-id-2 div.sk-label label {font-family: monospace;font-weight: bold;display: inline-block;line-height: 1.2em;}#sk-container-id-2 div.sk-label-container {text-align: center;}#sk-container-id-2 div.sk-container {/* jupyter's `normalize.less` sets `[hidden] { display: none; }` but bootstrap.min.css set `[hidden] { display: none !important; }` so we also need the `!important` here to be able to override the default hidden behavior on the sphinx rendered scikit-learn.org. See: https://github.com/scikit-learn/scikit-learn/issues/21755 */display: inline-block !important;position: relative;}#sk-container-id-2 div.sk-text-repr-fallback {display: none;}</style><div id=\"sk-container-id-2\" class=\"sk-top-container\"><div class=\"sk-text-repr-fallback\"><pre>GridSearchCV(cv=10, estimator=LogisticRegression(random_state=10), n_jobs=-1,\n",
       "             param_grid={&#x27;C&#x27;: [1e-06, 1e-05, 0.0001, 0.001, 0.01, 0.1, 1, 10,\n",
       "                               100, 1000]},\n",
       "             return_train_score=True)</pre><b>In a Jupyter environment, please rerun this cell to show the HTML representation or trust the notebook. <br />On GitHub, the HTML representation is unable to render, please try loading this page with nbviewer.org.</b></div><div class=\"sk-container\" hidden><div class=\"sk-item sk-dashed-wrapped\"><div class=\"sk-label-container\"><div class=\"sk-label sk-toggleable\"><input class=\"sk-toggleable__control sk-hidden--visually\" id=\"sk-estimator-id-2\" type=\"checkbox\" ><label for=\"sk-estimator-id-2\" class=\"sk-toggleable__label sk-toggleable__label-arrow\">GridSearchCV</label><div class=\"sk-toggleable__content\"><pre>GridSearchCV(cv=10, estimator=LogisticRegression(random_state=10), n_jobs=-1,\n",
       "             param_grid={&#x27;C&#x27;: [1e-06, 1e-05, 0.0001, 0.001, 0.01, 0.1, 1, 10,\n",
       "                               100, 1000]},\n",
       "             return_train_score=True)</pre></div></div></div><div class=\"sk-parallel\"><div class=\"sk-parallel-item\"><div class=\"sk-item\"><div class=\"sk-label-container\"><div class=\"sk-label sk-toggleable\"><input class=\"sk-toggleable__control sk-hidden--visually\" id=\"sk-estimator-id-3\" type=\"checkbox\" ><label for=\"sk-estimator-id-3\" class=\"sk-toggleable__label sk-toggleable__label-arrow\">estimator: LogisticRegression</label><div class=\"sk-toggleable__content\"><pre>LogisticRegression(random_state=10)</pre></div></div></div><div class=\"sk-serial\"><div class=\"sk-item\"><div class=\"sk-estimator sk-toggleable\"><input class=\"sk-toggleable__control sk-hidden--visually\" id=\"sk-estimator-id-4\" type=\"checkbox\" ><label for=\"sk-estimator-id-4\" class=\"sk-toggleable__label sk-toggleable__label-arrow\">LogisticRegression</label><div class=\"sk-toggleable__content\"><pre>LogisticRegression(random_state=10)</pre></div></div></div></div></div></div></div></div></div></div>"
      ],
      "text/plain": [
       "GridSearchCV(cv=10, estimator=LogisticRegression(random_state=10), n_jobs=-1,\n",
       "             param_grid={'C': [1e-06, 1e-05, 0.0001, 0.001, 0.01, 0.1, 1, 10,\n",
       "                               100, 1000]},\n",
       "             return_train_score=True)"
      ]
     },
     "execution_count": 25,
     "metadata": {},
     "output_type": "execute_result"
    }
   ],
   "source": [
    "# grid search CV\n",
    "params = {'C': [pow(10, x) for x in range(-6, 4)]}\n",
    "\n",
    "# use all cores to tune logistic regression with C parameter\n",
    "cv = GridSearchCV(param_grid=params, estimator=LogisticRegression(random_state=rs),return_train_score=True, cv=10, n_jobs=-1)\n",
    "cv.fit(X_train, y_train)"
   ]
  },
  {
   "cell_type": "code",
   "execution_count": 26,
   "id": "86ee94bd",
   "metadata": {},
   "outputs": [
    {
     "data": {
      "text/plain": [
       "{'cv': 10,\n",
       " 'error_score': nan,\n",
       " 'estimator__C': 1.0,\n",
       " 'estimator__class_weight': None,\n",
       " 'estimator__dual': False,\n",
       " 'estimator__fit_intercept': True,\n",
       " 'estimator__intercept_scaling': 1,\n",
       " 'estimator__l1_ratio': None,\n",
       " 'estimator__max_iter': 100,\n",
       " 'estimator__multi_class': 'auto',\n",
       " 'estimator__n_jobs': None,\n",
       " 'estimator__penalty': 'l2',\n",
       " 'estimator__random_state': 10,\n",
       " 'estimator__solver': 'lbfgs',\n",
       " 'estimator__tol': 0.0001,\n",
       " 'estimator__verbose': 0,\n",
       " 'estimator__warm_start': False,\n",
       " 'estimator': LogisticRegression(random_state=10),\n",
       " 'n_jobs': -1,\n",
       " 'param_grid': {'C': [1e-06,\n",
       "   1e-05,\n",
       "   0.0001,\n",
       "   0.001,\n",
       "   0.01,\n",
       "   0.1,\n",
       "   1,\n",
       "   10,\n",
       "   100,\n",
       "   1000]},\n",
       " 'pre_dispatch': '2*n_jobs',\n",
       " 'refit': True,\n",
       " 'return_train_score': True,\n",
       " 'scoring': None,\n",
       " 'verbose': 0}"
      ]
     },
     "execution_count": 26,
     "metadata": {},
     "output_type": "execute_result"
    }
   ],
   "source": [
    "cv.get_params()"
   ]
  },
  {
   "cell_type": "code",
   "execution_count": 27,
   "id": "70cae007",
   "metadata": {},
   "outputs": [
    {
     "name": "stdout",
     "output_type": "stream",
     "text": [
      "{'mean_fit_time': array([0.41013021, 0.49098992, 0.47660804, 0.69283819, 0.95177474,\n",
      "       1.05941567, 1.10965738, 1.25428405, 1.25401297, 0.90084767]), 'std_fit_time': array([0.02225871, 0.04762861, 0.04491149, 0.04718384, 0.07551998,\n",
      "       0.08550514, 0.07697643, 0.06649063, 0.07037758, 0.08925182]), 'mean_score_time': array([0.00737526, 0.00737576, 0.00627928, 0.00767486, 0.00807295,\n",
      "       0.00757506, 0.00697668, 0.00817287, 0.0063786 , 0.00249159]), 'std_score_time': array([0.00173758, 0.00195284, 0.0017293 , 0.00204509, 0.00261602,\n",
      "       0.00149182, 0.00140971, 0.00059787, 0.00161978, 0.00102117]), 'param_C': masked_array(data=[1e-06, 1e-05, 0.0001, 0.001, 0.01, 0.1, 1, 10, 100,\n",
      "                   1000],\n",
      "             mask=[False, False, False, False, False, False, False, False,\n",
      "                   False, False],\n",
      "       fill_value='?',\n",
      "            dtype=object), 'params': [{'C': 1e-06}, {'C': 1e-05}, {'C': 0.0001}, {'C': 0.001}, {'C': 0.01}, {'C': 0.1}, {'C': 1}, {'C': 10}, {'C': 100}, {'C': 1000}], 'split0_test_score': array([0.53772523, 0.55771396, 0.62809685, 0.63710586, 0.63935811,\n",
      "       0.63963964, 0.63963964, 0.63963964, 0.63963964, 0.63935811]), 'split1_test_score': array([0.53772523, 0.55320946, 0.6303491 , 0.63626126, 0.63597973,\n",
      "       0.63682432, 0.63710586, 0.63710586, 0.63710586, 0.63710586]), 'split2_test_score': array([0.53787665, 0.55674458, 0.61278513, 0.62095184, 0.62095184,\n",
      "       0.62038862, 0.62067023, 0.62067023, 0.62067023, 0.62067023]), 'split3_test_score': array([0.53787665, 0.55646297, 0.61813574, 0.6223599 , 0.62179668,\n",
      "       0.6223599 , 0.6223599 , 0.6223599 , 0.6223599 , 0.6223599 ]), 'split4_test_score': array([0.53759504, 0.55421008, 0.61616446, 0.6327795 , 0.63728527,\n",
      "       0.63728527, 0.63700366, 0.63700366, 0.63700366, 0.63700366]), 'split5_test_score': array([0.53759504, 0.55589975, 0.61954379, 0.62404956, 0.6277105 ,\n",
      "       0.62827373, 0.62827373, 0.62855534, 0.62855534, 0.62855534]), 'split6_test_score': array([0.53759504, 0.55449169, 0.60856097, 0.61672768, 0.61841735,\n",
      "       0.6172909 , 0.61757251, 0.61757251, 0.61757251, 0.61757251]), 'split7_test_score': array([0.53759504, 0.5519572 , 0.61785413, 0.6277105 , 0.62686567,\n",
      "       0.62686567, 0.62658406, 0.62658406, 0.62658406, 0.62658406]), 'split8_test_score': array([0.53759504, 0.55449169, 0.62123346, 0.62855534, 0.63615883,\n",
      "       0.63559561, 0.63559561, 0.63559561, 0.63559561, 0.63559561]), 'split9_test_score': array([0.53759504, 0.5547733 , 0.62179668, 0.63306111, 0.63559561,\n",
      "       0.63503239, 0.63503239, 0.63503239, 0.63503239, 0.63503239]), 'mean_test_score': array([0.5376774 , 0.55499547, 0.61945203, 0.62795626, 0.63001196,\n",
      "       0.62995561, 0.62998376, 0.63001192, 0.63001192, 0.62998377]), 'std_test_score': array([0.00011166, 0.00164364, 0.00616697, 0.00651272, 0.00737587,\n",
      "       0.007578  , 0.00750738, 0.00750143, 0.00750143, 0.00746569]), 'rank_test_score': array([10,  9,  8,  7,  1,  6,  5,  2,  2,  4]), 'split0_train_score': array([0.53767209, 0.55478723, 0.62005632, 0.62969337, 0.63204005,\n",
      "       0.63207134, 0.63210263, 0.63213392, 0.63213392, 0.63213392]), 'split1_train_score': array([0.53767209, 0.55522528, 0.61986859, 0.63069462, 0.63241552,\n",
      "       0.63238423, 0.63235294, 0.63235294, 0.63232165, 0.63232165]), 'split2_train_score': array([0.53765527, 0.55511405, 0.62203936, 0.63139451, 0.63333438,\n",
      "       0.63349082, 0.63355339, 0.63352211, 0.63355339, 0.63355339]), 'split3_train_score': array([0.53765527, 0.55476988, 0.62150746, 0.632208  , 0.63383499,\n",
      "       0.63377241, 0.63374112, 0.63374112, 0.63374112, 0.63374112]), 'split4_train_score': array([0.53768656, 0.55520791, 0.6219455 , 0.63114421, 0.63333438,\n",
      "       0.63333438, 0.63333438, 0.63330309, 0.6332718 , 0.6332718 ]), 'split5_train_score': array([0.53768656, 0.55511405, 0.62125716, 0.63126936, 0.63292763,\n",
      "       0.63270861, 0.63264604, 0.63264604, 0.63267733, 0.63267733]), 'split6_train_score': array([0.53768656, 0.55514533, 0.62228967, 0.63192641, 0.63402272,\n",
      "       0.63424173, 0.63439817, 0.63439817, 0.63442946, 0.63439817]), 'split7_train_score': array([0.53768656, 0.5557711 , 0.62094428, 0.63198899, 0.63352211,\n",
      "       0.63392885, 0.63396014, 0.63389756, 0.63392885, 0.63392885]), 'split8_train_score': array([0.53768656, 0.55552079, 0.62060011, 0.62989268, 0.63126936,\n",
      "       0.63139451, 0.63145709, 0.63145709, 0.63145709, 0.63148838]), 'split9_train_score': array([0.53768656, 0.55536435, 0.62075655, 0.63014299, 0.63227058,\n",
      "       0.63211414, 0.63217672, 0.632208  , 0.63214543, 0.63211414]), 'mean_train_score': array([0.5376774 , 0.555202  , 0.6211265 , 0.63103551, 0.63289717,\n",
      "       0.6329441 , 0.63297226, 0.632966  , 0.632966  , 0.63296287]), 'std_train_score': array([1.24057860e-05, 2.88076007e-04, 7.87020973e-04, 8.53999714e-04,\n",
      "       8.32414920e-04, 8.95073913e-04, 9.07964621e-04, 8.92444676e-04,\n",
      "       9.08250558e-04, 9.00964946e-04])}\n"
     ]
    }
   ],
   "source": [
    "result_set = cv.cv_results_\n",
    "print(result_set)"
   ]
  },
  {
   "cell_type": "code",
   "execution_count": 28,
   "id": "aacfb9ba",
   "metadata": {},
   "outputs": [
    {
     "name": "stdout",
     "output_type": "stream",
     "text": [
      "Total number of models:  10\n"
     ]
    },
    {
     "data": {
      "image/png": "[encoded data removed]",
      "text/plain": [
       "<Figure size 640x480 with 1 Axes>"
      ]
     },
     "metadata": {},
     "output_type": "display_data"
    }
   ],
   "source": [
    "train_result = result_set['split0_train_score']\n",
    "test_result = result_set['split0_test_score']\n",
    "print(\"Total number of models: \", len(test_result))\n",
    "# plot Hyperparameter C values vs training and test accuracy score\n",
    "plt.plot(range(0, len(train_result)), train_result, 'b', range(0,len(test_result)), test_result, 'r')\n",
    "plt.xlabel('Hyperparameter C\\nBlue = training acc. Red = test acc.')\n",
    "plt.xticks(range(0, len(train_result)),[pow(10, x) for x in range(-6, 4)])\n",
    "plt.ylabel('score')\n",
    "plt.show()"
   ]
  },
  {
   "cell_type": "code",
   "execution_count": 29,
   "id": "d8aa2414",
   "metadata": {},
   "outputs": [
    {
     "name": "stdout",
     "output_type": "stream",
     "text": [
      "Total number of models:  10\n"
     ]
    },
    {
     "data": {
      "image/png": "[encoded data removed]",
      "text/plain": [
       "<Figure size 640x480 with 1 Axes>"
      ]
     },
     "metadata": {},
     "output_type": "display_data"
    }
   ],
   "source": [
    "train_result = result_set['mean_train_score']\n",
    "test_result = result_set['mean_test_score']\n",
    "print(\"Total number of models: \", len(test_result))\n",
    "# plot Hyperparameter C values vs training and test accuracy score\n",
    "plt.plot(range(0, len(train_result)), train_result, 'b', range(0,len(test_result)), test_result, 'r')\n",
    "plt.xlabel('Hyperparameter C\\nBlue = training acc. Red = test acc.')\n",
    "plt.xticks(range(0, len(train_result)),[pow(10, x) for x in range(-6, 4)])\n",
    "plt.ylabel('score')\n",
    "plt.show()"
   ]
  },
  {
   "cell_type": "code",
   "execution_count": 30,
   "id": "31d1f9a5",
   "metadata": {},
   "outputs": [
    {
     "data": {
      "text/html": [
       "<style>#sk-container-id-3 {color: black;}#sk-container-id-3 pre{padding: 0;}#sk-container-id-3 div.sk-toggleable {background-color: white;}#sk-container-id-3 label.sk-toggleable__label {cursor: pointer;display: block;width: 100%;margin-bottom: 0;padding: 0.3em;box-sizing: border-box;text-align: center;}#sk-container-id-3 label.sk-toggleable__label-arrow:before {content: \"▸\";float: left;margin-right: 0.25em;color: #696969;}#sk-container-id-3 label.sk-toggleable__label-arrow:hover:before {color: black;}#sk-container-id-3 div.sk-estimator:hover label.sk-toggleable__label-arrow:before {color: black;}#sk-container-id-3 div.sk-toggleable__content {max-height: 0;max-width: 0;overflow: hidden;text-align: left;background-color: #f0f8ff;}#sk-container-id-3 div.sk-toggleable__content pre {margin: 0.2em;color: black;border-radius: 0.25em;background-color: #f0f8ff;}#sk-container-id-3 input.sk-toggleable__control:checked~div.sk-toggleable__content {max-height: 200px;max-width: 100%;overflow: auto;}#sk-container-id-3 input.sk-toggleable__control:checked~label.sk-toggleable__label-arrow:before {content: \"▾\";}#sk-container-id-3 div.sk-estimator input.sk-toggleable__control:checked~label.sk-toggleable__label {background-color: #d4ebff;}#sk-container-id-3 div.sk-label input.sk-toggleable__control:checked~label.sk-toggleable__label {background-color: #d4ebff;}#sk-container-id-3 input.sk-hidden--visually {border: 0;clip: rect(1px 1px 1px 1px);clip: rect(1px, 1px, 1px, 1px);height: 1px;margin: -1px;overflow: hidden;padding: 0;position: absolute;width: 1px;}#sk-container-id-3 div.sk-estimator {font-family: monospace;background-color: #f0f8ff;border: 1px dotted black;border-radius: 0.25em;box-sizing: border-box;margin-bottom: 0.5em;}#sk-container-id-3 div.sk-estimator:hover {background-color: #d4ebff;}#sk-container-id-3 div.sk-parallel-item::after {content: \"\";width: 100%;border-bottom: 1px solid gray;flex-grow: 1;}#sk-container-id-3 div.sk-label:hover label.sk-toggleable__label {background-color: #d4ebff;}#sk-container-id-3 div.sk-serial::before {content: \"\";position: absolute;border-left: 1px solid gray;box-sizing: border-box;top: 0;bottom: 0;left: 50%;z-index: 0;}#sk-container-id-3 div.sk-serial {display: flex;flex-direction: column;align-items: center;background-color: white;padding-right: 0.2em;padding-left: 0.2em;position: relative;}#sk-container-id-3 div.sk-item {position: relative;z-index: 1;}#sk-container-id-3 div.sk-parallel {display: flex;align-items: stretch;justify-content: center;background-color: white;position: relative;}#sk-container-id-3 div.sk-item::before, #sk-container-id-3 div.sk-parallel-item::before {content: \"\";position: absolute;border-left: 1px solid gray;box-sizing: border-box;top: 0;bottom: 0;left: 50%;z-index: -1;}#sk-container-id-3 div.sk-parallel-item {display: flex;flex-direction: column;z-index: 1;position: relative;background-color: white;}#sk-container-id-3 div.sk-parallel-item:first-child::after {align-self: flex-end;width: 50%;}#sk-container-id-3 div.sk-parallel-item:last-child::after {align-self: flex-start;width: 50%;}#sk-container-id-3 div.sk-parallel-item:only-child::after {width: 0;}#sk-container-id-3 div.sk-dashed-wrapped {border: 1px dashed gray;margin: 0 0.4em 0.5em 0.4em;box-sizing: border-box;padding-bottom: 0.4em;background-color: white;}#sk-container-id-3 div.sk-label label {font-family: monospace;font-weight: bold;display: inline-block;line-height: 1.2em;}#sk-container-id-3 div.sk-label-container {text-align: center;}#sk-container-id-3 div.sk-container {/* jupyter's `normalize.less` sets `[hidden] { display: none; }` but bootstrap.min.css set `[hidden] { display: none !important; }` so we also need the `!important` here to be able to override the default hidden behavior on the sphinx rendered scikit-learn.org. See: https://github.com/scikit-learn/scikit-learn/issues/21755 */display: inline-block !important;position: relative;}#sk-container-id-3 div.sk-text-repr-fallback {display: none;}</style><div id=\"sk-container-id-3\" class=\"sk-top-container\"><div class=\"sk-text-repr-fallback\"><pre>LogisticRegression(C=0.01, random_state=10)</pre><b>In a Jupyter environment, please rerun this cell to show the HTML representation or trust the notebook. <br />On GitHub, the HTML representation is unable to render, please try loading this page with nbviewer.org.</b></div><div class=\"sk-container\" hidden><div class=\"sk-item\"><div class=\"sk-estimator sk-toggleable\"><input class=\"sk-toggleable__control sk-hidden--visually\" id=\"sk-estimator-id-5\" type=\"checkbox\" checked><label for=\"sk-estimator-id-5\" class=\"sk-toggleable__label sk-toggleable__label-arrow\">LogisticRegression</label><div class=\"sk-toggleable__content\"><pre>LogisticRegression(C=0.01, random_state=10)</pre></div></div></div></div></div>"
      ],
      "text/plain": [
       "LogisticRegression(C=0.01, random_state=10)"
      ]
     },
     "execution_count": 30,
     "metadata": {},
     "output_type": "execute_result"
    }
   ],
   "source": [
    "cv.best_estimator_"
   ]
  },
  {
   "cell_type": "code",
   "execution_count": 31,
   "id": "29b964d8",
   "metadata": {},
   "outputs": [
    {
     "data": {
      "text/plain": [
       "<bound method ClassifierMixin.score of LogisticRegression(C=0.01, random_state=10)>"
      ]
     },
     "execution_count": 31,
     "metadata": {},
     "output_type": "execute_result"
    }
   ],
   "source": [
    "cv.best_estimator_.score"
   ]
  },
  {
   "cell_type": "code",
   "execution_count": 32,
   "id": "b6c92bd5",
   "metadata": {},
   "outputs": [
    {
     "name": "stdout",
     "output_type": "stream",
     "text": [
      "{'C': 0.01}\n"
     ]
    }
   ],
   "source": [
    "print(cv.best_params_)"
   ]
  },
  {
   "cell_type": "code",
   "execution_count": 33,
   "id": "9987d28c",
   "metadata": {},
   "outputs": [
    {
     "name": "stdout",
     "output_type": "stream",
     "text": [
      "Train accuracy: 0.6328283397161523\n",
      "Test accuracy: 0.6283180026281209\n",
      "              precision    recall  f1-score   support\n",
      "\n",
      "       False       0.62      0.79      0.70      8184\n",
      "        True       0.64      0.44      0.52      7036\n",
      "\n",
      "    accuracy                           0.63     15220\n",
      "   macro avg       0.63      0.62      0.61     15220\n",
      "weighted avg       0.63      0.63      0.62     15220\n",
      "\n"
     ]
    }
   ],
   "source": [
    "cv.fit(X_train, y_train)\n",
    "\n",
    "print(\"Train accuracy:\", cv.score(X_train, y_train))\n",
    "print(\"Test accuracy:\", cv.score(X_test, y_test))\n",
    "\n",
    "# classification report on test data\n",
    "y_pred = cv.predict(X_test)\n",
    "print(classification_report(y_test, y_pred))"
   ]
  },
  {
   "cell_type": "code",
   "execution_count": 34,
   "id": "e1a9ae88",
   "metadata": {},
   "outputs": [
    {
     "data": {
      "text/plain": [
       "array([10,  9,  8,  7,  1,  6,  5,  2,  2,  4])"
      ]
     },
     "execution_count": 34,
     "metadata": {},
     "output_type": "execute_result"
    }
   ],
   "source": [
    "cv.cv_results_['rank_test_score']"
   ]
  },
  {
   "cell_type": "code",
   "execution_count": 35,
   "id": "a77ff430",
   "metadata": {},
   "outputs": [
    {
     "data": {
      "text/plain": [
       "array([0.53759504, 0.55449169, 0.62123346, 0.62855534, 0.63615883,\n",
       "       0.63559561, 0.63559561, 0.63559561, 0.63559561, 0.63559561])"
      ]
     },
     "execution_count": 35,
     "metadata": {},
     "output_type": "execute_result"
    }
   ],
   "source": [
    "cv.cv_results_['split8_test_score'] "
   ]
  },
  {
   "cell_type": "code",
   "execution_count": 36,
   "id": "9ae94417",
   "metadata": {},
   "outputs": [],
   "source": [
    "cv_best = cv.best_estimator_"
   ]
  },
  {
   "cell_type": "code",
   "execution_count": 37,
   "id": "65578e2c",
   "metadata": {},
   "outputs": [
    {
     "name": "stdout",
     "output_type": "stream",
     "text": [
      "Train score:  0.6328283397161523\n",
      "Test score:  0.6283180026281209\n"
     ]
    }
   ],
   "source": [
    "print(\"Train score: \", cv.score(X_train, y_train))\n",
    "print(\"Test score: \", cv.score(X_test, y_test))"
   ]
  },
  {
   "cell_type": "code",
   "execution_count": 38,
   "id": "57e428d6",
   "metadata": {},
   "outputs": [
    {
     "name": "stdout",
     "output_type": "stream",
     "text": [
      "number_inpatient : 0.48356582221376226\n",
      "number_emergency : 0.2616777858657435\n",
      "diabetesMed : 0.16105615076199198\n",
      "number_outpatient : 0.11492780987078582\n",
      "number_diagnoses : 0.09581997607631174\n"
     ]
    }
   ],
   "source": [
    "feature_names = X.columns\n",
    "coef =cv_best.coef_[0]\n",
    "indices = np.argsort(np.absolute(coef))\n",
    "indices = np.flip(indices, axis=0)\n",
    "indices = indices[:5]\n",
    "for i in indices:\n",
    "    print(feature_names[i], ':', coef[i])"
   ]
  },
  {
   "cell_type": "markdown",
   "id": "399edb2e",
   "metadata": {},
   "source": [
    "# Feature selection using RFE"
   ]
  },
  {
   "cell_type": "code",
   "execution_count": 39,
   "id": "52ece9a0",
   "metadata": {},
   "outputs": [
    {
     "name": "stdout",
     "output_type": "stream",
     "text": [
      "Original feature set 111\n",
      "Number of features after elimination 23\n"
     ]
    }
   ],
   "source": [
    "from sklearn.feature_selection import RFECV\n",
    "\n",
    "rfe = RFECV(estimator = LogisticRegression(random_state=rs), cv=10)\n",
    "rfe.fit(X_train, y_train) # run the RFECV\n",
    "\n",
    "# comparing how many variables before and after\n",
    "print(\"Original feature set\", X_train.shape[1])\n",
    "print(\"Number of features after elimination\", rfe.n_features_)"
   ]
  },
  {
   "cell_type": "code",
   "execution_count": 40,
   "id": "5b75a99f",
   "metadata": {},
   "outputs": [],
   "source": [
    "X_train_sel = rfe.transform(X_train)\n",
    "X_test_sel = rfe.transform(X_test)"
   ]
  },
  {
   "cell_type": "code",
   "execution_count": 41,
   "id": "8d08deae",
   "metadata": {},
   "outputs": [
    {
     "name": "stdout",
     "output_type": "stream",
     "text": [
      "Train accuracy: 0.6317582788916423\n",
      "Test accuracy: 0.6273324572930354\n",
      "              precision    recall  f1-score   support\n",
      "\n",
      "       False       0.62      0.80      0.70      8184\n",
      "        True       0.65      0.43      0.52      7036\n",
      "\n",
      "    accuracy                           0.63     15220\n",
      "   macro avg       0.63      0.61      0.61     15220\n",
      "weighted avg       0.63      0.63      0.61     15220\n",
      "\n",
      "{'C': 0.01}\n"
     ]
    }
   ],
   "source": [
    "# grid search CV\n",
    "params = {'C': [pow(10, x) for x in range(-6, 4)]}\n",
    "\n",
    "rfe_cv = GridSearchCV(param_grid=params, estimator=LogisticRegression(random_state=rs), cv=10, n_jobs=-1)\n",
    "rfe_cv.fit(X_train_sel, y_train)\n",
    "\n",
    "# test the best model\n",
    "print(\"Train accuracy:\", rfe_cv.score(X_train_sel, y_train))\n",
    "print(\"Test accuracy:\", rfe_cv.score(X_test_sel, y_test))\n",
    "\n",
    "y_pred = rfe_cv.predict(X_test_sel)\n",
    "print(classification_report(y_test, y_pred))\n",
    "\n",
    "# print parameters of the best model\n",
    "print(rfe_cv.best_params_)"
   ]
  },
  {
   "cell_type": "code",
   "execution_count": 42,
   "id": "b1b5f9df",
   "metadata": {},
   "outputs": [
    {
     "name": "stdout",
     "output_type": "stream",
     "text": [
      "Feature: number_outpatient, Coefficient: 0.49085661294810257\n",
      "Feature: num_medications, Coefficient: 0.26575299661816004\n",
      "Feature: number_inpatient, Coefficient: 0.1807099537039395\n"
     ]
    }
   ],
   "source": [
    "# Get the coefficients of the best estimator\n",
    "coef = rfe_cv.best_estimator_.coef_[0]\n",
    "\n",
    "# Get the corresponding feature names\n",
    "feature_names = X.columns\n",
    "\n",
    "# Sort the coefficients in descending order and get the top 3 indices\n",
    "top_3_indices = np.argsort(np.abs(coef))[::-1][:3]\n",
    "\n",
    "# Get the top 3 feature names and their corresponding coefficients\n",
    "top_3_features = [(feature_names[i], coef[i]) for i in top_3_indices]\n",
    "\n",
    "# Print the top 3 features and their coefficients\n",
    "for feature, coefficient in top_3_features:\n",
    "    print(f\"Feature: {feature}, Coefficient: {coefficient}\")\n"
   ]
  },
  {
   "cell_type": "markdown",
   "id": "70ebd50e",
   "metadata": {},
   "source": [
    "# Regression with DT"
   ]
  },
  {
   "cell_type": "code",
   "execution_count": 43,
   "id": "1d500e77",
   "metadata": {},
   "outputs": [
    {
     "name": "stdout",
     "output_type": "stream",
     "text": [
      "{'criterion': 'entropy', 'max_depth': 6, 'min_samples_leaf': 5}\n"
     ]
    }
   ],
   "source": [
    "import pickle\n",
    "with open('DT.pickle', 'rb') as f:\n",
    "    dt_best,roc_index_dt_cv, fpr_dt_cv, tpr_dt_cv = pickle.load(f)\n",
    "#dt_best.fit(X_train, y_train)\n",
    "\n",
    "print(dt_best.best_params_)"
   ]
  },
  {
   "cell_type": "code",
   "execution_count": 44,
   "id": "f262a1e8",
   "metadata": {},
   "outputs": [
    {
     "name": "stdout",
     "output_type": "stream",
     "text": [
      "number_inpatient : 0.6381981338908856\n",
      "age : 0.07327214295078206\n",
      "number_emergency : 0.06782710488619006\n",
      "number_outpatient : 0.04473199817364742\n",
      "diabetesMed : 0.026753088800269036\n",
      "number_diagnoses : 0.0265376850020693\n",
      "num_lab_procedures : 0.026524174597051867\n",
      "num_medications : 0.021847087608436826\n",
      "medical_specialty_Invalid : 0.0160967522990542\n",
      "medical_specialty_InternalMedicine : 0.009895495899597017\n",
      "insulin_Steady : 0.009318618299450085\n",
      "num_procedures : 0.008437152889207475\n",
      "race_Hispanic : 0.005894980006009106\n",
      "A1Cresult_>8 : 0.005242670552721142\n",
      "metformin_No : 0.00505123981362141\n",
      "time_in_hospital : 0.0038341264876989465\n",
      "metformin_Steady : 0.0030798567405517846\n",
      "glyburide_Steady : 0.002160177027149097\n",
      "glyburide_No : 0.0020130733532451118\n",
      "medical_specialty_Family/GeneralPractice : 0.0020069990513469443\n"
     ]
    }
   ],
   "source": [
    "# analyse feature importance from the tuned decision tree\n",
    "importances = dt_best.best_estimator_.feature_importances_\n",
    "feature_names = X.columns\n",
    "indices = np.argsort(importances)\n",
    "indices = np.flip(indices, axis=0)\n",
    "indices = indices[:20]\n",
    "for i in indices:\n",
    "    print(feature_names[i], ':', importances[i])"
   ]
  },
  {
   "cell_type": "code",
   "execution_count": 45,
   "id": "ec2f4367",
   "metadata": {},
   "outputs": [
    {
     "name": "stdout",
     "output_type": "stream",
     "text": [
      "(35512, 11)\n"
     ]
    }
   ],
   "source": [
    "from sklearn.feature_selection import SelectFromModel\n",
    "\n",
    "# use the trained best decision tree from GridSearchCV to select features\n",
    "# supply the prefit=True parameter to stop SelectFromModel to re-train the model\n",
    "selectmodel = SelectFromModel(dt_best.best_estimator_, prefit=True)\n",
    "X_train_sel_model = selectmodel.transform(X_train)\n",
    "X_test_sel_model = selectmodel.transform(X_test)\n",
    "\n",
    "print(X_train_sel_model.shape)"
   ]
  },
  {
   "cell_type": "code",
   "execution_count": 46,
   "id": "58e664c9",
   "metadata": {},
   "outputs": [
    {
     "name": "stdout",
     "output_type": "stream",
     "text": [
      "Train accuracy: 0.6295899977472403\n",
      "Test accuracy: 0.6266754270696452\n",
      "              precision    recall  f1-score   support\n",
      "\n",
      "       False       0.62      0.80      0.70      8184\n",
      "        True       0.65      0.42      0.51      7036\n",
      "\n",
      "    accuracy                           0.63     15220\n",
      "   macro avg       0.63      0.61      0.60     15220\n",
      "weighted avg       0.63      0.63      0.61     15220\n",
      "\n",
      "{'C': 1}\n"
     ]
    }
   ],
   "source": [
    "params = {'C': [pow(10, x) for x in range(-6, 4)]}\n",
    "\n",
    "### For the params given, build a logistic regression model with GridSearch.\n",
    "\n",
    "cv_sel_model = GridSearchCV(param_grid=params, estimator=LogisticRegression(random_state=rs), cv=10, n_jobs=-1)\n",
    "cv_sel_model.fit(X_train_sel_model, y_train)\n",
    "\n",
    "print(\"Train accuracy:\", cv_sel_model.score(X_train_sel_model, y_train))\n",
    "print(\"Test accuracy:\", cv_sel_model.score(X_test_sel_model, y_test))\n",
    "\n",
    "# test the best model\n",
    "y_pred = cv_sel_model.predict(X_test_sel_model)\n",
    "print(classification_report(y_test, y_pred))\n",
    "\n",
    "# print parameters of the best model\n",
    "print(cv_sel_model.best_params_)"
   ]
  },
  {
   "cell_type": "markdown",
   "id": "ec245394",
   "metadata": {},
   "source": [
    "# Comparison"
   ]
  },
  {
   "cell_type": "code",
   "execution_count": 47,
   "id": "6fc5d723",
   "metadata": {},
   "outputs": [
    {
     "name": "stdout",
     "output_type": "stream",
     "text": [
      "ROC index on test for `model`: 0.6717469318522199\n",
      "ROC index on test for `cv`: 0.6716280070876937\n",
      "ROC index on test for `rfe_cv`: 0.6693297269676353\n",
      "ROC index on test for `cv_sel_model`: 0.6657345278325628\n"
     ]
    }
   ],
   "source": [
    "from sklearn.metrics import roc_auc_score\n",
    "\n",
    "y_pred_proba_lr = model.predict_proba(X_test)\n",
    "y_pred_proba_lr_cv = cv.predict_proba(X_test)\n",
    "y_pred_proba_rfe_cv = rfe_cv.predict_proba(X_test_sel)\n",
    "y_pred_proba_cv_sel_model = cv_sel_model.predict_proba(X_test_sel_model)\n",
    "\n",
    "\n",
    "roc_index_lr = roc_auc_score(y_test, y_pred_proba_lr[:, 1])\n",
    "roc_index_lr_cv = roc_auc_score(y_test, y_pred_proba_lr_cv[:, 1])\n",
    "roc_index_rfe_cv = roc_auc_score(y_test, y_pred_proba_rfe_cv[:, 1])\n",
    "roc_index_cv_sel_model = roc_auc_score(y_test, y_pred_proba_cv_sel_model[:, 1])\n",
    "\n",
    "print(\"ROC index on test for `model`:\", roc_index_lr)\n",
    "print(\"ROC index on test for `cv`:\", roc_index_lr_cv)\n",
    "print(\"ROC index on test for `rfe_cv`:\", roc_index_rfe_cv)\n",
    "print(\"ROC index on test for `cv_sel_model`:\", roc_index_cv_sel_model)"
   ]
  },
  {
   "cell_type": "code",
   "execution_count": 48,
   "id": "1057f2ee",
   "metadata": {},
   "outputs": [],
   "source": [
    "from sklearn.metrics import roc_curve\n",
    "\n",
    "fpr_lr, tpr_lr, thresholds_lr = roc_curve(y_test, y_pred_proba_lr[:,1])\n",
    "fpr_lr_cv, tpr_lr_cv, thresholds_lr_cv = roc_curve(y_test, y_pred_proba_lr_cv[:,1])\n",
    "fpr_rfe_cv, tpr_rfe_cv, thresholds_rfe_cv = roc_curve(y_test, y_pred_proba_rfe_cv[:,1])\n",
    "fpr_cv_sel_model, tpr_cv_sel_model, thresholds_cv_sel_model = roc_curve(y_test, y_pred_proba_cv_sel_model[:,1])"
   ]
  },
  {
   "cell_type": "code",
   "execution_count": 49,
   "id": "8c3b17d6",
   "metadata": {},
   "outputs": [
    {
     "data": {
      "image/png": "[encoded data removed]",
      "text/plain": [
       "<Figure size 640x480 with 1 Axes>"
      ]
     },
     "metadata": {},
     "output_type": "display_data"
    }
   ],
   "source": [
    "plt.plot(fpr_lr, tpr_lr, label='ROC Curve for `model` {:.3f}'.format(roc_index_lr), color='red', lw=0.5)\n",
    "plt.plot(fpr_lr_cv, tpr_lr_cv, label='ROC Curve for `cv` {:.3f}'.format(roc_index_lr_cv), color='black', lw=0.5)\n",
    "plt.plot(fpr_rfe_cv, tpr_rfe_cv, label='ROC Curve for `rfe_cv` {:.3f}'.format(roc_index_rfe_cv), color='blue', lw=0.5)\n",
    "plt.plot(fpr_cv_sel_model, tpr_cv_sel_model, label='ROC Curve for `cv_sel_model` {:.3f}'.format(roc_index_cv_sel_model), color='brown', lw=0.5)\n",
    "\n",
    "\n",
    "plt.plot([0, 1], [0, 1], color='navy', lw=0.5, linestyle='--')\n",
    "plt.xlim([0.0, 1.0])\n",
    "plt.ylim([0.0, 1.0])\n",
    "plt.xlabel('False Positive Rate')\n",
    "plt.ylabel('True Positive Rate')\n",
    "plt.title('Receiver operating characteristic example')\n",
    "plt.legend(loc=\"lower right\")\n",
    "plt.show()"
   ]
  },
  {
   "cell_type": "code",
   "execution_count": 50,
   "id": "630163aa",
   "metadata": {},
   "outputs": [],
   "source": [
    "import pickle\n",
    "lr_best = cv_sel_model\n",
    "roc_index_lr_best = roc_index_cv_sel_model\n",
    "tpr_lr_best = tpr_cv_sel_model\n",
    "fpr_lr_best = fpr_cv_sel_model\n",
    "with open('LR.pickle', 'wb') as f:\n",
    "    pickle.dump([lr_best,roc_index_lr_best, fpr_lr_best, tpr_lr_best], f)"
   ]
  },
  {
   "cell_type": "code",
   "execution_count": null,
   "id": "02002584",
   "metadata": {},
   "outputs": [],
   "source": []
  }
 ],
 "metadata": {
  "kernelspec": {
   "display_name": "Python 3 (ipykernel)",
   "language": "python",
   "name": "python3"
  },
  "language_info": {
   "codemirror_mode": {
    "name": "ipython",
    "version": 3
   },
   "file_extension": ".py",
   "mimetype": "text/x-python",
   "name": "python",
   "nbconvert_exporter": "python",
   "pygments_lexer": "ipython3",
   "version": "3.11.4"
  }
 },
 "nbformat": 4,
 "nbformat_minor": 5
}
